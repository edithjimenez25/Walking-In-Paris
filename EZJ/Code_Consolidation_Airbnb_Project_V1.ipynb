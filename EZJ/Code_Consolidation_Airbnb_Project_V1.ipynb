{
 "cells": [
  {
   "cell_type": "markdown",
   "metadata": {},
   "source": [
    "# Project Team: Walking in Paris"
   ]
  },
  {
   "cell_type": "markdown",
   "metadata": {},
   "source": [
    "### Objective:\n",
    "Identify the attributes that make Airbnb “Successful” \n",
    "Find the best place to stay in Hawaii"
   ]
  },
  {
   "cell_type": "code",
   "execution_count": 1,
   "metadata": {},
   "outputs": [],
   "source": [
    "# Dependencies and Setup\n",
    "import matplotlib.pyplot as plt\n",
    "import pandas as pd\n",
    "import numpy as np\n",
    "import requests\n",
    "import time\n",
    "\n",
    "# Import statistic library\n",
    "import scipy.stats as stats\n",
    "from scipy.stats import linregress\n",
    "\n",
    "# Import seaborn library to create figure\n",
    "import seaborn as sns\n",
    "\n",
    "import pprint\n",
    "import json\n",
    "from time import sleep\n",
    "from datetime import date\n",
    "import zipfile\n",
    "\n",
    "# Incorporated citipy to determine city based on latitude and longitude\n",
    "# pip install citipy\n",
    "from citipy import citipy\n",
    "\n",
    "# Output File location\n",
    "output_folder = \"output_data\""
   ]
  },
  {
   "cell_type": "raw",
   "metadata": {},
   "source": [
    "Open the dataset from the zip file and ensure memory resources\n",
    "Cleaning raw data (airbnb) to delete the column with not values, columns values duplicated, columns with data not required."
   ]
  },
  {
   "cell_type": "code",
   "execution_count": 2,
   "metadata": {},
   "outputs": [
    {
     "name": "stdout",
     "output_type": "stream",
     "text": [
      "Data set has 23745 rows\n"
     ]
    },
    {
     "data": {
      "text/html": [
       "<div>\n",
       "<style scoped>\n",
       "    .dataframe tbody tr th:only-of-type {\n",
       "        vertical-align: middle;\n",
       "    }\n",
       "\n",
       "    .dataframe tbody tr th {\n",
       "        vertical-align: top;\n",
       "    }\n",
       "\n",
       "    .dataframe thead th {\n",
       "        text-align: right;\n",
       "    }\n",
       "</style>\n",
       "<table border=\"1\" class=\"dataframe\">\n",
       "  <thead>\n",
       "    <tr style=\"text-align: right;\">\n",
       "      <th></th>\n",
       "      <th>id</th>\n",
       "      <th>name</th>\n",
       "      <th>summary</th>\n",
       "      <th>space</th>\n",
       "      <th>description</th>\n",
       "      <th>experiences_offered</th>\n",
       "      <th>neighborhood_overview</th>\n",
       "      <th>notes</th>\n",
       "      <th>transit</th>\n",
       "      <th>access</th>\n",
       "      <th>...</th>\n",
       "      <th>instant_bookable</th>\n",
       "      <th>is_business_travel_ready</th>\n",
       "      <th>cancellation_policy</th>\n",
       "      <th>require_guest_profile_picture</th>\n",
       "      <th>require_guest_phone_verification</th>\n",
       "      <th>calculated_host_listings_count</th>\n",
       "      <th>calculated_host_listings_count_entire_homes</th>\n",
       "      <th>calculated_host_listings_count_private_rooms</th>\n",
       "      <th>calculated_host_listings_count_shared_rooms</th>\n",
       "      <th>reviews_per_month</th>\n",
       "    </tr>\n",
       "  </thead>\n",
       "  <tbody>\n",
       "    <tr>\n",
       "      <td>0</td>\n",
       "      <td>5065</td>\n",
       "      <td>MAUKA BB</td>\n",
       "      <td>Perfect for your vacation, Staycation or just ...</td>\n",
       "      <td>Mauka B &amp; B is 400 square feet studio with a p...</td>\n",
       "      <td>Perfect for your vacation, Staycation or just ...</td>\n",
       "      <td>none</td>\n",
       "      <td>Neighbors here are friendly but are not really...</td>\n",
       "      <td>Located near by is Kalopa State Park with 100 ...</td>\n",
       "      <td>There  is a bus stop located in Honoka'a town ...</td>\n",
       "      <td>A BBQ grill is available</td>\n",
       "      <td>...</td>\n",
       "      <td>f</td>\n",
       "      <td>f</td>\n",
       "      <td>moderate</td>\n",
       "      <td>f</td>\n",
       "      <td>f</td>\n",
       "      <td>2</td>\n",
       "      <td>2</td>\n",
       "      <td>0</td>\n",
       "      <td>0</td>\n",
       "      <td>0.45</td>\n",
       "    </tr>\n",
       "  </tbody>\n",
       "</table>\n",
       "<p>1 rows × 85 columns</p>\n",
       "</div>"
      ],
      "text/plain": [
       "     id      name                                            summary  \\\n",
       "0  5065  MAUKA BB  Perfect for your vacation, Staycation or just ...   \n",
       "\n",
       "                                               space  \\\n",
       "0  Mauka B & B is 400 square feet studio with a p...   \n",
       "\n",
       "                                         description experiences_offered  \\\n",
       "0  Perfect for your vacation, Staycation or just ...                none   \n",
       "\n",
       "                               neighborhood_overview  \\\n",
       "0  Neighbors here are friendly but are not really...   \n",
       "\n",
       "                                               notes  \\\n",
       "0  Located near by is Kalopa State Park with 100 ...   \n",
       "\n",
       "                                             transit  \\\n",
       "0  There  is a bus stop located in Honoka'a town ...   \n",
       "\n",
       "                     access  ... instant_bookable is_business_travel_ready  \\\n",
       "0  A BBQ grill is available  ...                f                        f   \n",
       "\n",
       "   cancellation_policy require_guest_profile_picture  \\\n",
       "0             moderate                             f   \n",
       "\n",
       "  require_guest_phone_verification calculated_host_listings_count  \\\n",
       "0                                f                              2   \n",
       "\n",
       "  calculated_host_listings_count_entire_homes  \\\n",
       "0                                           2   \n",
       "\n",
       "  calculated_host_listings_count_private_rooms  \\\n",
       "0                                            0   \n",
       "\n",
       "  calculated_host_listings_count_shared_rooms reviews_per_month  \n",
       "0                                           0              0.45  \n",
       "\n",
       "[1 rows x 85 columns]"
      ]
     },
     "execution_count": 2,
     "metadata": {},
     "output_type": "execute_result"
    }
   ],
   "source": [
    "# Open the zip file\n",
    "zf = zipfile.ZipFile('./source_data/detail_listings.zip') \n",
    "df = pd.read_csv(zf.open('detail_listings.csv'), low_memory=False)\n",
    "\n",
    "rows_in_df = len(df)\n",
    "print(f'Data set has {rows_in_df} rows')\n",
    "\n",
    "# Drop unneeded columns:\n",
    "df = df.drop(columns = [\n",
    "    \"listing_url\", \n",
    "    \"thumbnail_url\", \n",
    "    \"picture_url\", \n",
    "    \"medium_url\", \n",
    "    \"xl_picture_url\", \n",
    "    \"host_url\", \n",
    "    \"host_thumbnail_url\", \n",
    "    \"host_picture_url\", \n",
    "    \"scrape_id\",\n",
    "    \"host_listings_count\", # There is a host_total_listings_count that is a dupe\n",
    "    \"host_acceptance_rate\", # NaN\n",
    "    \"calendar_last_scraped\",\n",
    "    \"bed_type\",\n",
    "    \"last_scraped\",\n",
    "    \"calendar_updated\",\n",
    "    \"has_availability\",\n",
    "    \"availability_30\", \n",
    "    \"availability_60\", \n",
    "    \"availability_90\", \n",
    "    \"availability_365\", \n",
    "    \"license\"\n",
    "])\n",
    "\n",
    "df.head(1)"
   ]
  },
  {
   "cell_type": "code",
   "execution_count": 3,
   "metadata": {},
   "outputs": [
    {
     "name": "stdout",
     "output_type": "stream",
     "text": [
      "\n",
      "----------------------\n",
      "Property-specific columns:\n",
      "----------------------\n",
      "experiences_offered\n",
      "street\n",
      "city\n",
      "state\n",
      "zipcode\n",
      "market\n",
      "country\n",
      "instant_bookable\n",
      "is_business_travel_ready\n",
      "\n",
      "----------------------\n",
      "All columns:\n",
      "----------------------\n",
      "id\n",
      "name\n",
      "summary\n",
      "space\n",
      "description\n",
      "experiences_offered\n",
      "neighborhood_overview\n",
      "notes\n",
      "transit\n",
      "access\n",
      "interaction\n",
      "house_rules\n",
      "host_id\n",
      "host_name\n",
      "host_since\n",
      "host_location\n",
      "host_about\n",
      "host_response_time\n",
      "host_response_rate\n",
      "host_is_superhost\n",
      "host_neighbourhood\n",
      "host_total_listings_count\n",
      "host_verifications\n",
      "host_has_profile_pic\n",
      "host_identity_verified\n",
      "street\n",
      "neighbourhood\n",
      "neighbourhood_cleansed\n",
      "neighbourhood_group_cleansed\n",
      "city\n",
      "state\n",
      "zipcode\n",
      "market\n",
      "smart_location\n",
      "country_code\n",
      "country\n",
      "latitude\n",
      "longitude\n",
      "is_location_exact\n",
      "property_type\n",
      "room_type\n",
      "accommodates\n",
      "bathrooms\n",
      "bedrooms\n",
      "beds\n",
      "amenities\n",
      "square_feet\n",
      "price\n",
      "weekly_price\n",
      "monthly_price\n",
      "security_deposit\n",
      "cleaning_fee\n",
      "guests_included\n",
      "extra_people\n",
      "minimum_nights\n",
      "maximum_nights\n",
      "minimum_minimum_nights\n",
      "maximum_minimum_nights\n",
      "minimum_maximum_nights\n",
      "maximum_maximum_nights\n",
      "minimum_nights_avg_ntm\n",
      "maximum_nights_avg_ntm\n",
      "number_of_reviews\n",
      "number_of_reviews_ltm\n",
      "first_review\n",
      "last_review\n",
      "review_scores_rating\n",
      "review_scores_accuracy\n",
      "review_scores_cleanliness\n",
      "review_scores_checkin\n",
      "review_scores_communication\n",
      "review_scores_location\n",
      "review_scores_value\n",
      "requires_license\n",
      "jurisdiction_names\n",
      "instant_bookable\n",
      "is_business_travel_ready\n",
      "cancellation_policy\n",
      "require_guest_profile_picture\n",
      "require_guest_phone_verification\n",
      "calculated_host_listings_count\n",
      "calculated_host_listings_count_entire_homes\n",
      "calculated_host_listings_count_private_rooms\n",
      "calculated_host_listings_count_shared_rooms\n",
      "reviews_per_month\n"
     ]
    }
   ],
   "source": [
    "# Group the columns and show the list of the columns\n",
    "        \n",
    "print('')\n",
    "print('----------------------')\n",
    "print('Property-specific columns:')\n",
    "print('----------------------')\n",
    "# These are wildcard search terms:\n",
    "cols = [\"experiences_offered\", \"street\", \"city\", \"state\", \"zipcode\", \"market\", \"country\", \"property\"\n",
    "    , \"location\", \"accomodate\", \"room\", \"guest\", \"is_business_travel_ready\", \"instant_bookable\", \"cancel\"]\n",
    "for col in df.columns: \n",
    "    if col in cols:\n",
    "        print(col) \n",
    "        \n",
    "print('')\n",
    "print('----------------------')\n",
    "print('All columns:')\n",
    "print('----------------------')\n",
    "for col in df.columns: \n",
    "    print(col)"
   ]
  },
  {
   "cell_type": "code",
   "execution_count": 4,
   "metadata": {},
   "outputs": [
    {
     "name": "stdout",
     "output_type": "stream",
     "text": [
      "Group                 Subgroup\n",
      "                                   1\n",
      "Booking-related                    8\n",
      "Host-related                      12\n",
      "Neighborhood-related               5\n",
      "Property-related                  20\n",
      "                      Interior     4\n",
      "                      Location    13\n",
      "                      Pricing      9\n",
      "Requirements-related               2\n",
      "Review-related                    11\n",
      "Name: Column, dtype: int64\n",
      "\n",
      "Columns without a group:\n"
     ]
    },
    {
     "data": {
      "text/html": [
       "<div>\n",
       "<style scoped>\n",
       "    .dataframe tbody tr th:only-of-type {\n",
       "        vertical-align: middle;\n",
       "    }\n",
       "\n",
       "    .dataframe tbody tr th {\n",
       "        vertical-align: top;\n",
       "    }\n",
       "\n",
       "    .dataframe thead th {\n",
       "        text-align: right;\n",
       "    }\n",
       "</style>\n",
       "<table border=\"1\" class=\"dataframe\">\n",
       "  <thead>\n",
       "    <tr style=\"text-align: right;\">\n",
       "      <th></th>\n",
       "      <th>ColumNumber</th>\n",
       "      <th>Column</th>\n",
       "      <th>Group</th>\n",
       "      <th>Subgroup</th>\n",
       "      <th>Notes</th>\n",
       "    </tr>\n",
       "  </thead>\n",
       "  <tbody>\n",
       "    <tr>\n",
       "      <td>0</td>\n",
       "      <td>0</td>\n",
       "      <td>id</td>\n",
       "      <td></td>\n",
       "      <td></td>\n",
       "      <td>Primary Key</td>\n",
       "    </tr>\n",
       "  </tbody>\n",
       "</table>\n",
       "</div>"
      ],
      "text/plain": [
       "   ColumNumber Column Group Subgroup        Notes\n",
       "0            0     id                 Primary Key"
      ]
     },
     "execution_count": 4,
     "metadata": {},
     "output_type": "execute_result"
    }
   ],
   "source": [
    "# Create a dataframe with 1 row for each column in the source:\n",
    "data_dict = pd.DataFrame(columns = [\n",
    "    \"ColumNumber\"\n",
    "    , \"Column\"\n",
    "    , \"Group\"\n",
    "    , \"Subgroup\"\n",
    "    , \"Notes\"\n",
    "])\n",
    "\n",
    "# Loop through \n",
    "for column in df:\n",
    "    data_dict = data_dict.append({\n",
    "            \"Column\": column\n",
    "            , \"Group\": \"\"\n",
    "            , \"Subgroup\": \"\"\n",
    "            , \"Notes\": \"\"\n",
    "        }\n",
    "        , ignore_index=True\n",
    "    )\n",
    "\n",
    "# Make the index the column numebr\n",
    "data_dict['ColumNumber'] = data_dict.index\n",
    "        \n",
    "# Add context for each column \n",
    "for index, row in data_dict.iterrows():\n",
    "    val = str(row[\"Column\"])\n",
    "    \n",
    "    if val == \"id\":\n",
    "        data_dict.loc[index, \"Notes\"] = \"Primary Key\"\n",
    "    # Val.startswith(\"host_\")  \n",
    "    if val.find(\"host\") > -1: \n",
    "        data_dict.loc[index, \"Group\"] = \"Host-related\"\n",
    "    \n",
    "    if val.find(\"review\") > -1:\n",
    "        data_dict.loc[index, \"Group\"] = \"Review-related\"\n",
    "        \n",
    "    if (val.find(\"rule\") > -1) | (val.find(\"require\") > -1):\n",
    "        data_dict.loc[index, \"Group\"] = \"Requirements-related\"\n",
    "        \n",
    "    if (val.find(\"neighbo\") > -1):\n",
    "        data_dict.loc[index, \"Group\"] = \"Neighborhood-related\"\n",
    "        \n",
    "    if (val.find(\"nights\") > -1):\n",
    "        data_dict.loc[index, \"Group\"] = \"Booking-related\"\n",
    "        \n",
    "    # Property specific:\n",
    "    cols = [\n",
    "        \"property\", \"room\", \"guest\", \"is_business_travel_ready\", \"instant_bookable\", \"cancel\"\n",
    "        , \"space\", \"name\", \"summary\", \"description\", \"notes\", \"transit\", \"access\", \"interaction\"\n",
    "        , \"property_type\", \"room_type\", \"amenities\"\n",
    "    ]\n",
    "    if any(word in val for word in cols):\n",
    "        data_dict.loc[index, \"Group\"] = \"Property-related\"\n",
    "        \n",
    "    # Property - \"Location\" specific:\n",
    "    cols = [\n",
    "        \"location\", \"street\", \"city\", \"state\", \"zipcode\", \"market\", \"country\"\n",
    "        , \"latitude\", \"longitude\", \"is_location_exact\"\n",
    "    ]\n",
    "    if any(word in val for word in cols):\n",
    "        data_dict.loc[index, \"Group\"] = \"Property-related\"\n",
    "        data_dict.loc[index, \"Subgroup\"] = \"Location\"\n",
    "        \n",
    "    # Property - \"Interior\" specific:\n",
    "    cols = [\n",
    "        \"bathrooms\", \"bedrooms\", \"beds\", \"square_feet\"\n",
    "    ]\n",
    "    if any(word in val for word in cols):\n",
    "        data_dict.loc[index, \"Group\"] = \"Property-related\"\n",
    "        data_dict.loc[index, \"Subgroup\"] = \"Interior\"\n",
    "        \n",
    "    # Property - \"Pricing\" specific:\n",
    "    # Things about price, or that we might associate with price\n",
    "    cols = [\n",
    "        \"price\", \"weekly_price\", \"monthly_price\"        \n",
    "        , \"security_deposit\", \"cleaning_fee\"\n",
    "        , \"accomodates\", \"guests_included\", \"extra_people\"\n",
    "        , \"experiences_offered\"\n",
    "    ]\n",
    "    if any(word in val for word in cols):\n",
    "        data_dict.loc[index, \"Group\"] = \"Property-related\"\n",
    "        data_dict.loc[index, \"Subgroup\"] = \"Pricing\"\n",
    "        \n",
    "    # Add additional code to accomodate a group and subgroup of properties:\n",
    "    if val == \"accommodates\":\n",
    "        data_dict.loc[index, \"Group\"] = \"Property-related\"\n",
    "        data_dict.loc[index, \"Subgroup\"] = \"Pricing\"\n",
    "        \n",
    "print(data_dict.groupby([\"Group\", \"Subgroup\"])[\"Column\"].count())\n",
    "print('')\n",
    "print('Columns without a group:')\n",
    "data_dict[data_dict[\"Group\"] == \"\"]\n"
   ]
  },
  {
   "cell_type": "markdown",
   "metadata": {},
   "source": [
    "Making additional cleaning of the raw data in the rows\n",
    "- Drop rows with number_of_reviews = 0\n",
    "- Get names of indexes for which column number_of_reviews has value 0\n",
    "- Strip out the dollar symboil ($) from the pricing based columns:\n",
    "  price\",\"weekly_price\",\"monthly_price\",\"security_deposit\",\"cleaning_fee\", \"extra_people\"  \n"
   ]
  },
  {
   "cell_type": "code",
   "execution_count": 5,
   "metadata": {},
   "outputs": [
    {
     "name": "stdout",
     "output_type": "stream",
     "text": [
      "Remaining rows after cleanup: 18291\n"
     ]
    }
   ],
   "source": [
    "# Drop by index:\n",
    "indexNames = df[df['number_of_reviews'] == 0 ].index\n",
    "df.drop(indexNames , inplace=True)\n",
    "\n",
    "# Drop rows with number_of_reviews = NaN\n",
    "df.dropna(axis=0, subset=('number_of_reviews', ))\n",
    "\n",
    "# Drop rows with NaN review data\n",
    "df.dropna(axis=0, subset=(\n",
    "    'review_scores_rating', \n",
    "    'review_scores_accuracy', \n",
    "    'review_scores_cleanliness', \n",
    "    'review_scores_checkin', \n",
    "    'review_scores_communication', \n",
    "    'review_scores_location', \n",
    "    'review_scores_value'\n",
    "))\n",
    "\n",
    "print(f'Remaining rows after cleanup: {len(df)}')"
   ]
  },
  {
   "cell_type": "code",
   "execution_count": 6,
   "metadata": {},
   "outputs": [
    {
     "data": {
      "text/html": [
       "<div>\n",
       "<style scoped>\n",
       "    .dataframe tbody tr th:only-of-type {\n",
       "        vertical-align: middle;\n",
       "    }\n",
       "\n",
       "    .dataframe tbody tr th {\n",
       "        vertical-align: top;\n",
       "    }\n",
       "\n",
       "    .dataframe thead th {\n",
       "        text-align: right;\n",
       "    }\n",
       "</style>\n",
       "<table border=\"1\" class=\"dataframe\">\n",
       "  <thead>\n",
       "    <tr style=\"text-align: right;\">\n",
       "      <th></th>\n",
       "      <th>ColumNumber</th>\n",
       "      <th>Column</th>\n",
       "      <th>Group</th>\n",
       "      <th>Subgroup</th>\n",
       "      <th>Notes</th>\n",
       "    </tr>\n",
       "  </thead>\n",
       "  <tbody>\n",
       "    <tr>\n",
       "      <td>0</td>\n",
       "      <td>0</td>\n",
       "      <td>id</td>\n",
       "      <td></td>\n",
       "      <td></td>\n",
       "      <td>Primary Key</td>\n",
       "    </tr>\n",
       "    <tr>\n",
       "      <td>1</td>\n",
       "      <td>1</td>\n",
       "      <td>name</td>\n",
       "      <td>Property-related</td>\n",
       "      <td></td>\n",
       "      <td></td>\n",
       "    </tr>\n",
       "    <tr>\n",
       "      <td>2</td>\n",
       "      <td>2</td>\n",
       "      <td>summary</td>\n",
       "      <td>Property-related</td>\n",
       "      <td></td>\n",
       "      <td></td>\n",
       "    </tr>\n",
       "    <tr>\n",
       "      <td>3</td>\n",
       "      <td>3</td>\n",
       "      <td>space</td>\n",
       "      <td>Property-related</td>\n",
       "      <td></td>\n",
       "      <td></td>\n",
       "    </tr>\n",
       "    <tr>\n",
       "      <td>4</td>\n",
       "      <td>4</td>\n",
       "      <td>description</td>\n",
       "      <td>Property-related</td>\n",
       "      <td></td>\n",
       "      <td></td>\n",
       "    </tr>\n",
       "    <tr>\n",
       "      <td>...</td>\n",
       "      <td>...</td>\n",
       "      <td>...</td>\n",
       "      <td>...</td>\n",
       "      <td>...</td>\n",
       "      <td>...</td>\n",
       "    </tr>\n",
       "    <tr>\n",
       "      <td>80</td>\n",
       "      <td>80</td>\n",
       "      <td>calculated_host_listings_count</td>\n",
       "      <td>Host-related</td>\n",
       "      <td></td>\n",
       "      <td></td>\n",
       "    </tr>\n",
       "    <tr>\n",
       "      <td>81</td>\n",
       "      <td>81</td>\n",
       "      <td>calculated_host_listings_count_entire_homes</td>\n",
       "      <td>Host-related</td>\n",
       "      <td></td>\n",
       "      <td></td>\n",
       "    </tr>\n",
       "    <tr>\n",
       "      <td>82</td>\n",
       "      <td>82</td>\n",
       "      <td>calculated_host_listings_count_private_rooms</td>\n",
       "      <td>Property-related</td>\n",
       "      <td></td>\n",
       "      <td></td>\n",
       "    </tr>\n",
       "    <tr>\n",
       "      <td>83</td>\n",
       "      <td>83</td>\n",
       "      <td>calculated_host_listings_count_shared_rooms</td>\n",
       "      <td>Property-related</td>\n",
       "      <td></td>\n",
       "      <td></td>\n",
       "    </tr>\n",
       "    <tr>\n",
       "      <td>84</td>\n",
       "      <td>84</td>\n",
       "      <td>reviews_per_month</td>\n",
       "      <td>Review-related</td>\n",
       "      <td></td>\n",
       "      <td></td>\n",
       "    </tr>\n",
       "  </tbody>\n",
       "</table>\n",
       "<p>85 rows × 5 columns</p>\n",
       "</div>"
      ],
      "text/plain": [
       "    ColumNumber                                        Column  \\\n",
       "0             0                                            id   \n",
       "1             1                                          name   \n",
       "2             2                                       summary   \n",
       "3             3                                         space   \n",
       "4             4                                   description   \n",
       "..          ...                                           ...   \n",
       "80           80                calculated_host_listings_count   \n",
       "81           81   calculated_host_listings_count_entire_homes   \n",
       "82           82  calculated_host_listings_count_private_rooms   \n",
       "83           83   calculated_host_listings_count_shared_rooms   \n",
       "84           84                             reviews_per_month   \n",
       "\n",
       "               Group Subgroup        Notes  \n",
       "0                              Primary Key  \n",
       "1   Property-related                        \n",
       "2   Property-related                        \n",
       "3   Property-related                        \n",
       "4   Property-related                        \n",
       "..               ...      ...          ...  \n",
       "80      Host-related                        \n",
       "81      Host-related                        \n",
       "82  Property-related                        \n",
       "83  Property-related                        \n",
       "84    Review-related                        \n",
       "\n",
       "[85 rows x 5 columns]"
      ]
     },
     "execution_count": 6,
     "metadata": {},
     "output_type": "execute_result"
    }
   ],
   "source": [
    "# Strip the $ out of the pricing-based columns\n",
    "data_dict[(data_dict[\"Group\"] == \"Property-related\") & (data_dict[\"Subgroup\"] == \"Pricing\")]\n",
    "\n",
    "if df[\"price\"].dtype != \"float64\":\n",
    "    df[\"price\"] = df[\"price\"].str.replace(\"$\", \"\")\n",
    "    df[\"price\"] = df[\"price\"].str.replace(\",\", \"\")\n",
    "    df[\"price\"] = df[\"price\"].astype(\"float64\")\n",
    "\n",
    "if df[\"weekly_price\"].dtype != \"float64\":\n",
    "    df[\"weekly_price\"] = df[\"weekly_price\"].str.replace(\"$\", \"\")\n",
    "    df[\"weekly_price\"] = df[\"weekly_price\"].str.replace(\",\", \"\")\n",
    "    df[\"weekly_price\"] = df[\"weekly_price\"].astype(\"float64\")\n",
    "\n",
    "if df[\"monthly_price\"].dtype != \"float64\":\n",
    "    df[\"monthly_price\"] = df[\"monthly_price\"].str.replace(\"$\", \"\")\n",
    "    df[\"monthly_price\"] = df[\"monthly_price\"].str.replace(\",\", \"\")\n",
    "    df[\"monthly_price\"] = df[\"monthly_price\"].astype(\"float64\")\n",
    "    \n",
    "if df[\"security_deposit\"].dtype != \"float64\":\n",
    "    df[\"security_deposit\"] = df[\"security_deposit\"].str.replace(\"$\", \"\")\n",
    "    df[\"security_deposit\"] = df[\"security_deposit\"].str.replace(\",\", \"\")\n",
    "    df[\"security_deposit\"] = df[\"security_deposit\"].astype(\"float64\")\n",
    "    \n",
    "if df[\"cleaning_fee\"].dtype != \"float64\":\n",
    "    df[\"cleaning_fee\"] = df[\"cleaning_fee\"].str.replace(\"$\", \"\")\n",
    "    df[\"cleaning_fee\"] = df[\"cleaning_fee\"].str.replace(\",\", \"\")\n",
    "    df[\"cleaning_fee\"] = df[\"cleaning_fee\"].astype(\"float64\")   \n",
    "\n",
    "if df[\"extra_people\"].dtype != \"float64\":\n",
    "    df[\"extra_people\"] = df[\"extra_people\"].str.replace(\"$\", \"\")\n",
    "    df[\"extra_people\"] = df[\"extra_people\"].str.replace(\",\", \"\")\n",
    "    df[\"extra_people\"] = df[\"extra_people\"].astype(\"float64\")\n",
    "    \n",
    "data_dict"
   ]
  },
  {
   "cell_type": "raw",
   "metadata": {},
   "source": [
    "# Create the bins to separate the number of properties by host\n",
    "\n",
    "bins = [1, 60, 119, 179, 239, 299]\n",
    "\n",
    "# labels - always one less than the range\n",
    "group_names = [\"0-59 properties\", \"60-119 properties\", \"120-179 properties\", \"180-239 properties\", \"240+ properties\"]\n",
    "\n",
    "df[\"Bin_NumProperties\"] = pd.cut(df[\"host_total_listings_count\"], bins, labels=group_names)\n",
    "\n",
    "df_analyze = df[[\"host_id\", \"Bin_NumProperties\", \"host_total_listings_count\"]]\n",
    "df_analyze = df_analyze.rename(columns={\"host_total_listings_count\": \"listings\"})\n",
    "\n",
    "# Loop through and get aggs:\n",
    "for index, row in df_analyze.iterrows():\n",
    "    df_analyze.loc[index, 'reviews'] = df_analyze[\"number_of_reviews\"].sum()\n",
    "    \n",
    "#df_analyze[\"reviews\"] = \n",
    "df_analyze[\"rating_mean\"] = df_analyze[\"review_scores_rating\"].mean()\n",
    "df_analyze[\"rating_value_mean\"] = df_analyze[\"review_scores_value\"].mean()\n",
    "df_analyze.head()"
   ]
  },
  {
   "cell_type": "code",
   "execution_count": 7,
   "metadata": {},
   "outputs": [],
   "source": []
  },
  {
   "cell_type": "code",
   "execution_count": 8,
   "metadata": {},
   "outputs": [
    {
     "data": {
      "text/html": [
       "<div>\n",
       "<style scoped>\n",
       "    .dataframe tbody tr th:only-of-type {\n",
       "        vertical-align: middle;\n",
       "    }\n",
       "\n",
       "    .dataframe tbody tr th {\n",
       "        vertical-align: top;\n",
       "    }\n",
       "\n",
       "    .dataframe thead th {\n",
       "        text-align: right;\n",
       "    }\n",
       "</style>\n",
       "<table border=\"1\" class=\"dataframe\">\n",
       "  <thead>\n",
       "    <tr style=\"text-align: right;\">\n",
       "      <th></th>\n",
       "      <th>id</th>\n",
       "      <th>name</th>\n",
       "      <th>summary</th>\n",
       "      <th>space</th>\n",
       "      <th>description</th>\n",
       "      <th>experiences_offered</th>\n",
       "      <th>neighborhood_overview</th>\n",
       "      <th>notes</th>\n",
       "      <th>transit</th>\n",
       "      <th>access</th>\n",
       "      <th>...</th>\n",
       "      <th>is_business_travel_ready</th>\n",
       "      <th>cancellation_policy</th>\n",
       "      <th>require_guest_profile_picture</th>\n",
       "      <th>require_guest_phone_verification</th>\n",
       "      <th>calculated_host_listings_count</th>\n",
       "      <th>calculated_host_listings_count_entire_homes</th>\n",
       "      <th>calculated_host_listings_count_private_rooms</th>\n",
       "      <th>calculated_host_listings_count_shared_rooms</th>\n",
       "      <th>reviews_per_month</th>\n",
       "      <th>Bin_NumProperties</th>\n",
       "    </tr>\n",
       "  </thead>\n",
       "  <tbody>\n",
       "    <tr>\n",
       "      <td>0</td>\n",
       "      <td>5065</td>\n",
       "      <td>MAUKA BB</td>\n",
       "      <td>Perfect for your vacation, Staycation or just ...</td>\n",
       "      <td>Mauka B &amp; B is 400 square feet studio with a p...</td>\n",
       "      <td>Perfect for your vacation, Staycation or just ...</td>\n",
       "      <td>none</td>\n",
       "      <td>Neighbors here are friendly but are not really...</td>\n",
       "      <td>Located near by is Kalopa State Park with 100 ...</td>\n",
       "      <td>There  is a bus stop located in Honoka'a town ...</td>\n",
       "      <td>A BBQ grill is available</td>\n",
       "      <td>...</td>\n",
       "      <td>f</td>\n",
       "      <td>moderate</td>\n",
       "      <td>f</td>\n",
       "      <td>f</td>\n",
       "      <td>2</td>\n",
       "      <td>2</td>\n",
       "      <td>0</td>\n",
       "      <td>0</td>\n",
       "      <td>0.45</td>\n",
       "      <td>0-50 properties</td>\n",
       "    </tr>\n",
       "  </tbody>\n",
       "</table>\n",
       "<p>1 rows × 86 columns</p>\n",
       "</div>"
      ],
      "text/plain": [
       "     id      name                                            summary  \\\n",
       "0  5065  MAUKA BB  Perfect for your vacation, Staycation or just ...   \n",
       "\n",
       "                                               space  \\\n",
       "0  Mauka B & B is 400 square feet studio with a p...   \n",
       "\n",
       "                                         description experiences_offered  \\\n",
       "0  Perfect for your vacation, Staycation or just ...                none   \n",
       "\n",
       "                               neighborhood_overview  \\\n",
       "0  Neighbors here are friendly but are not really...   \n",
       "\n",
       "                                               notes  \\\n",
       "0  Located near by is Kalopa State Park with 100 ...   \n",
       "\n",
       "                                             transit  \\\n",
       "0  There  is a bus stop located in Honoka'a town ...   \n",
       "\n",
       "                     access  ... is_business_travel_ready cancellation_policy  \\\n",
       "0  A BBQ grill is available  ...                        f            moderate   \n",
       "\n",
       "   require_guest_profile_picture require_guest_phone_verification  \\\n",
       "0                              f                                f   \n",
       "\n",
       "  calculated_host_listings_count calculated_host_listings_count_entire_homes  \\\n",
       "0                              2                                           2   \n",
       "\n",
       "  calculated_host_listings_count_private_rooms  \\\n",
       "0                                            0   \n",
       "\n",
       "  calculated_host_listings_count_shared_rooms reviews_per_month  \\\n",
       "0                                           0              0.45   \n",
       "\n",
       "  Bin_NumProperties  \n",
       "0   0-50 properties  \n",
       "\n",
       "[1 rows x 86 columns]"
      ]
     },
     "execution_count": 8,
     "metadata": {},
     "output_type": "execute_result"
    }
   ],
   "source": [
    "# Create the bins to separate the number of properties by host\n",
    "bins = [0, 50, 100, 150, 200, 250, 299]\n",
    "\n",
    "# labels - always one less than the range\n",
    "group_names = [\"0-50 properties\", \"51-100 properties\", \"101-150 properties\", \"151-200 properties\",\\\n",
    "               \"201-250 properties\", \"251+ properties\"]\n",
    "\n",
    "df[\"Bin_NumProperties\"] = pd.cut(df[\"calculated_host_listings_count\"], bins, labels=group_names)\n",
    "\n",
    "\n",
    "# Loop through and get aggs:\n",
    "total_reviews_per_host = df.groupby(\"host_id\").sum()[\"number_of_reviews\"]\n",
    "average_review_per_host = df.groupby(\"host_id\").mean()[\"review_scores_rating\"]\n",
    "rating_mean_by_bin = df.groupby(\"Bin_NumProperties\").mean()[\"review_scores_rating\"]\n",
    "\n",
    "#df_analyze[\"rating_value_mean\"] = df_analyze[\"review_scores_value\"].mean()\n",
    "df.head(1)"
   ]
  },
  {
   "cell_type": "raw",
   "metadata": {},
   "source": []
  },
  {
   "cell_type": "code",
   "execution_count": 10,
   "metadata": {},
   "outputs": [
    {
     "data": {
      "text/html": [
       "<div>\n",
       "<style scoped>\n",
       "    .dataframe tbody tr th:only-of-type {\n",
       "        vertical-align: middle;\n",
       "    }\n",
       "\n",
       "    .dataframe tbody tr th {\n",
       "        vertical-align: top;\n",
       "    }\n",
       "\n",
       "    .dataframe thead tr th {\n",
       "        text-align: left;\n",
       "    }\n",
       "\n",
       "    .dataframe thead tr:last-of-type th {\n",
       "        text-align: right;\n",
       "    }\n",
       "</style>\n",
       "<table border=\"1\" class=\"dataframe\">\n",
       "  <thead>\n",
       "    <tr>\n",
       "      <th></th>\n",
       "      <th colspan=\"5\" halign=\"left\">number_of_reviews</th>\n",
       "    </tr>\n",
       "    <tr>\n",
       "      <th></th>\n",
       "      <th>count_nonzero</th>\n",
       "      <th>mean</th>\n",
       "      <th>median</th>\n",
       "      <th>var</th>\n",
       "      <th>std</th>\n",
       "    </tr>\n",
       "    <tr>\n",
       "      <th>neighbourhood</th>\n",
       "      <th></th>\n",
       "      <th></th>\n",
       "      <th></th>\n",
       "      <th></th>\n",
       "      <th></th>\n",
       "    </tr>\n",
       "  </thead>\n",
       "  <tbody>\n",
       "    <tr>\n",
       "      <td>Aiea</td>\n",
       "      <td>14</td>\n",
       "      <td>40.428571</td>\n",
       "      <td>8.0</td>\n",
       "      <td>2872.417582</td>\n",
       "      <td>53.594940</td>\n",
       "    </tr>\n",
       "    <tr>\n",
       "      <td>Airport</td>\n",
       "      <td>3</td>\n",
       "      <td>4.000000</td>\n",
       "      <td>4.0</td>\n",
       "      <td>9.000000</td>\n",
       "      <td>3.000000</td>\n",
       "    </tr>\n",
       "    <tr>\n",
       "      <td>Ala Moana/Kakaako</td>\n",
       "      <td>28</td>\n",
       "      <td>23.214286</td>\n",
       "      <td>8.5</td>\n",
       "      <td>1138.767196</td>\n",
       "      <td>33.745625</td>\n",
       "    </tr>\n",
       "    <tr>\n",
       "      <td>Aliamanu/Salt Lake/Foster Village</td>\n",
       "      <td>8</td>\n",
       "      <td>74.875000</td>\n",
       "      <td>9.5</td>\n",
       "      <td>17739.267857</td>\n",
       "      <td>133.188843</td>\n",
       "    </tr>\n",
       "    <tr>\n",
       "      <td>Central Oahu</td>\n",
       "      <td>43</td>\n",
       "      <td>29.302326</td>\n",
       "      <td>17.0</td>\n",
       "      <td>1214.073090</td>\n",
       "      <td>34.843552</td>\n",
       "    </tr>\n",
       "  </tbody>\n",
       "</table>\n",
       "</div>"
      ],
      "text/plain": [
       "                                  number_of_reviews                    \\\n",
       "                                      count_nonzero       mean median   \n",
       "neighbourhood                                                           \n",
       "Aiea                                             14  40.428571    8.0   \n",
       "Airport                                           3   4.000000    4.0   \n",
       "Ala Moana/Kakaako                                28  23.214286    8.5   \n",
       "Aliamanu/Salt Lake/Foster Village                 8  74.875000    9.5   \n",
       "Central Oahu                                     43  29.302326   17.0   \n",
       "\n",
       "                                                             \n",
       "                                            var         std  \n",
       "neighbourhood                                                \n",
       "Aiea                                2872.417582   53.594940  \n",
       "Airport                                9.000000    3.000000  \n",
       "Ala Moana/Kakaako                   1138.767196   33.745625  \n",
       "Aliamanu/Salt Lake/Foster Village  17739.267857  133.188843  \n",
       "Central Oahu                        1214.073090   34.843552  "
      ]
     },
     "execution_count": 10,
     "metadata": {},
     "output_type": "execute_result"
    }
   ],
   "source": [
    "# data_dict[data_dict[\"Group\"] == \"Host-related\"]\n",
    "host_group = df.groupby(\"neighbourhood\").agg({\n",
    "    \"number_of_reviews\": [\n",
    "        np.count_nonzero,\n",
    "        np.mean, \n",
    "        np.median, \n",
    "        np.var, \n",
    "        np.std\n",
    "    ]\n",
    "})\n",
    "\n",
    "host_group.rename(columns={'count_nonzero':'Reviews'})\n",
    "host_group.head()\n",
    "# bin on reviews_per_month"
   ]
  },
  {
   "cell_type": "code",
   "execution_count": 11,
   "metadata": {},
   "outputs": [
    {
     "data": {
      "text/plain": [
       "11-20      3790\n",
       "1-10       2526\n",
       "21-50      2368\n",
       "100-200    1235\n",
       "201-250     250\n",
       "251-300      32\n",
       "301-350      23\n",
       "351-400      10\n",
       "401-550       6\n",
       "551-600       3\n",
       "451-500       3\n",
       "501-550       1\n",
       "Name: Bin_NumReviews, dtype: int64"
      ]
     },
     "execution_count": 11,
     "metadata": {},
     "output_type": "execute_result"
    }
   ],
   "source": [
    "bins_num_reviews = [10, 20, 50, 100, 200, 300, 350, 400, 450, 500, 550, 600, 100000]\n",
    "\n",
    "# labels - always one less than the range\n",
    "group_names_num_reviews = [\n",
    "    \"1-10\"\n",
    "    , \"11-20\"\n",
    "    , \"21-50\"\n",
    "    , \"100-200\"\n",
    "    , \"201-250\"\n",
    "    , \"251-300\"\n",
    "    , \"301-350\"\n",
    "    , \"351-400\"\n",
    "    , \"401-550\"\n",
    "    , \"451-500\"\n",
    "    , \"501-550\"\n",
    "    , \"551-600\"\n",
    "]\n",
    "\n",
    "df[\"Bin_NumReviews\"] = pd.cut(\n",
    "    df[\"number_of_reviews\"], \n",
    "    bins = bins_num_reviews, \n",
    "    labels = group_names_num_reviews\n",
    ")\n",
    "\n",
    "df[\"Bin_NumReviews\"].value_counts()\n"
   ]
  },
  {
   "cell_type": "code",
   "execution_count": 12,
   "metadata": {},
   "outputs": [
    {
     "name": "stdout",
     "output_type": "stream",
     "text": [
      "Sum: 623494\n",
      "Count: 18291\n"
     ]
    },
    {
     "data": {
      "text/plain": [
       "Bin_NumReviews\n",
       "1-10        37991\n",
       "11-20      126389\n",
       "21-50      169320\n",
       "100-200    169224\n",
       "201-250     59598\n",
       "251-300     10221\n",
       "301-350      8452\n",
       "351-400      4217\n",
       "401-550      2864\n",
       "451-500      1561\n",
       "501-550       569\n",
       "551-600      1983\n",
       "Name: number_of_reviews, dtype: int64"
      ]
     },
     "execution_count": 12,
     "metadata": {},
     "output_type": "execute_result"
    }
   ],
   "source": [
    "print(f'Sum: {df[\"number_of_reviews\"].sum()}')\n",
    "print(f'Count: {df[\"number_of_reviews\"].count()}')\n",
    "\n",
    "df.groupby(\"Bin_NumReviews\")[\"number_of_reviews\"].sum()"
   ]
  },
  {
   "cell_type": "code",
   "execution_count": 13,
   "metadata": {},
   "outputs": [
    {
     "data": {
      "text/html": [
       "<div>\n",
       "<style scoped>\n",
       "    .dataframe tbody tr th:only-of-type {\n",
       "        vertical-align: middle;\n",
       "    }\n",
       "\n",
       "    .dataframe tbody tr th {\n",
       "        vertical-align: top;\n",
       "    }\n",
       "\n",
       "    .dataframe thead tr th {\n",
       "        text-align: left;\n",
       "    }\n",
       "\n",
       "    .dataframe thead tr:last-of-type th {\n",
       "        text-align: right;\n",
       "    }\n",
       "</style>\n",
       "<table border=\"1\" class=\"dataframe\">\n",
       "  <thead>\n",
       "    <tr>\n",
       "      <th></th>\n",
       "      <th colspan=\"5\" halign=\"left\">number_of_reviews</th>\n",
       "    </tr>\n",
       "    <tr>\n",
       "      <th></th>\n",
       "      <th>count_nonzero</th>\n",
       "      <th>mean</th>\n",
       "      <th>median</th>\n",
       "      <th>var</th>\n",
       "      <th>std</th>\n",
       "    </tr>\n",
       "    <tr>\n",
       "      <th>Bin_NumReviews</th>\n",
       "      <th></th>\n",
       "      <th></th>\n",
       "      <th></th>\n",
       "      <th></th>\n",
       "      <th></th>\n",
       "    </tr>\n",
       "  </thead>\n",
       "  <tbody>\n",
       "    <tr>\n",
       "      <td>1-10</td>\n",
       "      <td>2526</td>\n",
       "      <td>15.039984</td>\n",
       "      <td>15.0</td>\n",
       "      <td>8.161173</td>\n",
       "      <td>2.856777</td>\n",
       "    </tr>\n",
       "    <tr>\n",
       "      <td>11-20</td>\n",
       "      <td>3790</td>\n",
       "      <td>33.348021</td>\n",
       "      <td>32.0</td>\n",
       "      <td>74.548947</td>\n",
       "      <td>8.634173</td>\n",
       "    </tr>\n",
       "    <tr>\n",
       "      <td>21-50</td>\n",
       "      <td>2368</td>\n",
       "      <td>71.503378</td>\n",
       "      <td>70.0</td>\n",
       "      <td>197.305439</td>\n",
       "      <td>14.046545</td>\n",
       "    </tr>\n",
       "    <tr>\n",
       "      <td>100-200</td>\n",
       "      <td>1235</td>\n",
       "      <td>137.023482</td>\n",
       "      <td>131.0</td>\n",
       "      <td>741.095883</td>\n",
       "      <td>27.223076</td>\n",
       "    </tr>\n",
       "    <tr>\n",
       "      <td>201-250</td>\n",
       "      <td>250</td>\n",
       "      <td>238.392000</td>\n",
       "      <td>232.0</td>\n",
       "      <td>802.456161</td>\n",
       "      <td>28.327657</td>\n",
       "    </tr>\n",
       "    <tr>\n",
       "      <td>251-300</td>\n",
       "      <td>32</td>\n",
       "      <td>319.406250</td>\n",
       "      <td>318.0</td>\n",
       "      <td>176.958669</td>\n",
       "      <td>13.302581</td>\n",
       "    </tr>\n",
       "    <tr>\n",
       "      <td>301-350</td>\n",
       "      <td>23</td>\n",
       "      <td>367.478261</td>\n",
       "      <td>366.0</td>\n",
       "      <td>157.988142</td>\n",
       "      <td>12.569333</td>\n",
       "    </tr>\n",
       "    <tr>\n",
       "      <td>351-400</td>\n",
       "      <td>10</td>\n",
       "      <td>421.700000</td>\n",
       "      <td>421.5</td>\n",
       "      <td>252.900000</td>\n",
       "      <td>15.902830</td>\n",
       "    </tr>\n",
       "    <tr>\n",
       "      <td>401-550</td>\n",
       "      <td>6</td>\n",
       "      <td>477.333333</td>\n",
       "      <td>485.5</td>\n",
       "      <td>246.666667</td>\n",
       "      <td>15.705625</td>\n",
       "    </tr>\n",
       "    <tr>\n",
       "      <td>451-500</td>\n",
       "      <td>3</td>\n",
       "      <td>520.333333</td>\n",
       "      <td>518.0</td>\n",
       "      <td>24.333333</td>\n",
       "      <td>4.932883</td>\n",
       "    </tr>\n",
       "    <tr>\n",
       "      <td>501-550</td>\n",
       "      <td>1</td>\n",
       "      <td>569.000000</td>\n",
       "      <td>569.0</td>\n",
       "      <td>NaN</td>\n",
       "      <td>NaN</td>\n",
       "    </tr>\n",
       "    <tr>\n",
       "      <td>551-600</td>\n",
       "      <td>3</td>\n",
       "      <td>661.000000</td>\n",
       "      <td>669.0</td>\n",
       "      <td>577.000000</td>\n",
       "      <td>24.020824</td>\n",
       "    </tr>\n",
       "  </tbody>\n",
       "</table>\n",
       "</div>"
      ],
      "text/plain": [
       "               number_of_reviews                                          \n",
       "                   count_nonzero        mean median         var        std\n",
       "Bin_NumReviews                                                            \n",
       "1-10                        2526   15.039984   15.0    8.161173   2.856777\n",
       "11-20                       3790   33.348021   32.0   74.548947   8.634173\n",
       "21-50                       2368   71.503378   70.0  197.305439  14.046545\n",
       "100-200                     1235  137.023482  131.0  741.095883  27.223076\n",
       "201-250                      250  238.392000  232.0  802.456161  28.327657\n",
       "251-300                       32  319.406250  318.0  176.958669  13.302581\n",
       "301-350                       23  367.478261  366.0  157.988142  12.569333\n",
       "351-400                       10  421.700000  421.5  252.900000  15.902830\n",
       "401-550                        6  477.333333  485.5  246.666667  15.705625\n",
       "451-500                        3  520.333333  518.0   24.333333   4.932883\n",
       "501-550                        1  569.000000  569.0         NaN        NaN\n",
       "551-600                        3  661.000000  669.0  577.000000  24.020824"
      ]
     },
     "execution_count": 13,
     "metadata": {},
     "output_type": "execute_result"
    }
   ],
   "source": [
    "df.groupby(\"Bin_NumReviews\").agg({\n",
    "    \"number_of_reviews\": [\n",
    "        np.count_nonzero,\n",
    "        np.mean, \n",
    "        np.median, \n",
    "        np.var, \n",
    "        np.std\n",
    "    ]\n",
    "})"
   ]
  },
  {
   "cell_type": "raw",
   "metadata": {},
   "source": [
    "Hypothesis candidates: \n",
    " Neighborhood\n",
    "     - Is rating related to price within a neighborhood? \n",
    "     - The highest price properties in a neighboorhood will have lower ratings than the lowest price properties?\n",
    "     - Best neighborhoods by rating\n",
    "     - Best neighborhoods by price\n",
    "     - Listing types by neighborhood\n",
    "     - Listing types by price\n",
    "     - Listing types by rating\n",
    " By island: \n",
    "     - Is one island more expensive than the others?"
   ]
  },
  {
   "cell_type": "code",
   "execution_count": null,
   "metadata": {},
   "outputs": [],
   "source": [
    "START QUESTIONS CODE PER TEAM MEMBER"
   ]
  },
  {
   "cell_type": "raw",
   "metadata": {},
   "source": [
    "Scott:\n"
   ]
  },
  {
   "cell_type": "code",
   "execution_count": 14,
   "metadata": {},
   "outputs": [
    {
     "data": {
      "text/plain": [
       "<matplotlib.axes._subplots.AxesSubplot at 0x2519f4722c8>"
      ]
     },
     "execution_count": 14,
     "metadata": {},
     "output_type": "execute_result"
    },
    {
     "data": {
      "image/png": "[encoded data removed]",
      "text/plain": [
       "<Figure size 432x288 with 1 Axes>"
      ]
     },
     "metadata": {
      "needs_background": "light"
     },
     "output_type": "display_data"
    }
   ],
   "source": [
    "# Use seaborn library to create a boxplot\n",
    "# sns.boxplot(x=\"day\", y=\"total_bill\", hue=\"smoker\", data=df, palette=\"Set1\")\n",
    "sns.boxplot(\n",
    "    x = \"neighbourhood_group_cleansed\",\n",
    "    y = \"number_of_reviews\",\n",
    "    #hue = \"price\",\n",
    "    data = df,\n",
    "    palette = \"Set1\"\n",
    ")\n",
    "\n",
    "# Bin by island\n",
    "# data_dict[(data_dict[\"Group\"] == \"Property-related\") & (data_dict[\"Subgroup\"] == \"Pricing\")]"
   ]
  },
  {
   "cell_type": "code",
   "execution_count": 15,
   "metadata": {},
   "outputs": [
    {
     "data": {
      "text/plain": [
       "0         85.0\n",
       "1        110.0\n",
       "2         92.0\n",
       "3        299.0\n",
       "4         92.0\n",
       "         ...  \n",
       "23569    111.0\n",
       "23576     79.0\n",
       "23582     70.0\n",
       "23656    146.0\n",
       "23741    499.0\n",
       "Name: price, Length: 18291, dtype: float64"
      ]
     },
     "execution_count": 15,
     "metadata": {},
     "output_type": "execute_result"
    }
   ],
   "source": [
    "from pandas.api.types import is_string_dtype\n",
    "from pandas.api.types import is_numeric_dtype\n",
    "\n",
    "is_string_dtype(df['price'])\n",
    "is_numeric_dtype(df['price'])\n",
    "df[\"price\"]"
   ]
  },
  {
   "cell_type": "code",
   "execution_count": 16,
   "metadata": {},
   "outputs": [
    {
     "name": "stdout",
     "output_type": "stream",
     "text": [
      "There are 50 coordinates in the dataframe\n"
     ]
    },
    {
     "data": {
      "text/plain": [
       "0          Hawaii\n",
       "1          Hawaii\n",
       "2          Hawaii\n",
       "3          Hawaii\n",
       "4           Kauai\n",
       "           ...   \n",
       "23569        Maui\n",
       "23576      Hawaii\n",
       "23582    Honolulu\n",
       "23656    Honolulu\n",
       "23741       Kauai\n",
       "Name: neighbourhood_group_cleansed, Length: 18291, dtype: object"
      ]
     },
     "execution_count": 16,
     "metadata": {},
     "output_type": "execute_result"
    }
   ],
   "source": [
    "# Bin by island\n",
    "isle = df[['latitude', 'longitude']].head(50).copy()\n",
    "isle[\"Island\"] = \"\"\n",
    "\n",
    "curr_rows = len(isle)\n",
    "print(f'There are {curr_rows} coordinates in the dataframe')\n",
    "\n",
    "df[\"neighbourhood_group_cleansed\"]"
   ]
  },
  {
   "cell_type": "markdown",
   "metadata": {},
   "source": [
    "Below we are testing the hypothesis 1:\n",
    "If a host has a hugh number of properties then their ratings are not higher than hosts with fewer properties"
   ]
  },
  {
   "cell_type": "raw",
   "metadata": {},
   "source": [
    "Meg Section\n",
    "Evaluate the relationship between \"age of property\" and review_scores_rating\n",
    "Evaluate the relationship between \"price\" and review_scores_rating\n",
    "Evaluate the relationship between \"how many properties someone has\" and review_scores_rating\n",
    "Evaluate the relationship between \"number of bedrooms\" and review_scores_rating\n",
    "\n",
    "Observations:"
   ]
  },
  {
   "cell_type": "code",
   "execution_count": 17,
   "metadata": {},
   "outputs": [
    {
     "data": {
      "text/html": [
       "<div>\n",
       "<style scoped>\n",
       "    .dataframe tbody tr th:only-of-type {\n",
       "        vertical-align: middle;\n",
       "    }\n",
       "\n",
       "    .dataframe tbody tr th {\n",
       "        vertical-align: top;\n",
       "    }\n",
       "\n",
       "    .dataframe thead th {\n",
       "        text-align: right;\n",
       "    }\n",
       "</style>\n",
       "<table border=\"1\" class=\"dataframe\">\n",
       "  <thead>\n",
       "    <tr style=\"text-align: right;\">\n",
       "      <th></th>\n",
       "      <th>id</th>\n",
       "      <th>name</th>\n",
       "      <th>summary</th>\n",
       "      <th>space</th>\n",
       "      <th>description</th>\n",
       "      <th>experiences_offered</th>\n",
       "      <th>neighborhood_overview</th>\n",
       "      <th>notes</th>\n",
       "      <th>transit</th>\n",
       "      <th>access</th>\n",
       "      <th>...</th>\n",
       "      <th>cancellation_policy</th>\n",
       "      <th>require_guest_profile_picture</th>\n",
       "      <th>require_guest_phone_verification</th>\n",
       "      <th>calculated_host_listings_count</th>\n",
       "      <th>calculated_host_listings_count_entire_homes</th>\n",
       "      <th>calculated_host_listings_count_private_rooms</th>\n",
       "      <th>calculated_host_listings_count_shared_rooms</th>\n",
       "      <th>reviews_per_month</th>\n",
       "      <th>Bin_NumProperties</th>\n",
       "      <th>Bin_NumReviews</th>\n",
       "    </tr>\n",
       "  </thead>\n",
       "  <tbody>\n",
       "    <tr>\n",
       "      <td>0</td>\n",
       "      <td>5065</td>\n",
       "      <td>MAUKA BB</td>\n",
       "      <td>Perfect for your vacation, Staycation or just ...</td>\n",
       "      <td>Mauka B &amp; B is 400 square feet studio with a p...</td>\n",
       "      <td>Perfect for your vacation, Staycation or just ...</td>\n",
       "      <td>none</td>\n",
       "      <td>Neighbors here are friendly but are not really...</td>\n",
       "      <td>Located near by is Kalopa State Park with 100 ...</td>\n",
       "      <td>There  is a bus stop located in Honoka'a town ...</td>\n",
       "      <td>A BBQ grill is available</td>\n",
       "      <td>...</td>\n",
       "      <td>moderate</td>\n",
       "      <td>f</td>\n",
       "      <td>f</td>\n",
       "      <td>2</td>\n",
       "      <td>2</td>\n",
       "      <td>0</td>\n",
       "      <td>0</td>\n",
       "      <td>0.45</td>\n",
       "      <td>0-50 properties</td>\n",
       "      <td>11-20</td>\n",
       "    </tr>\n",
       "    <tr>\n",
       "      <td>1</td>\n",
       "      <td>5269</td>\n",
       "      <td>Upcountry Hospitality in the 'Auwai Suite</td>\n",
       "      <td>The 'Auwai Suite is a lovely, self-contained a...</td>\n",
       "      <td>The ‘Auwai Suite is a lovely, self-contained a...</td>\n",
       "      <td>The 'Auwai Suite is a lovely, self-contained a...</td>\n",
       "      <td>none</td>\n",
       "      <td>We are located on the \"sunny side\" of Waimea, ...</td>\n",
       "      <td>NaN</td>\n",
       "      <td>One parking spot is provided with your stay.</td>\n",
       "      <td>You'll have access to your private garden suit...</td>\n",
       "      <td>...</td>\n",
       "      <td>strict_14_with_grace_period</td>\n",
       "      <td>f</td>\n",
       "      <td>f</td>\n",
       "      <td>5</td>\n",
       "      <td>4</td>\n",
       "      <td>1</td>\n",
       "      <td>0</td>\n",
       "      <td>0.09</td>\n",
       "      <td>0-50 properties</td>\n",
       "      <td>NaN</td>\n",
       "    </tr>\n",
       "  </tbody>\n",
       "</table>\n",
       "<p>2 rows × 87 columns</p>\n",
       "</div>"
      ],
      "text/plain": [
       "     id                                       name  \\\n",
       "0  5065                                   MAUKA BB   \n",
       "1  5269  Upcountry Hospitality in the 'Auwai Suite   \n",
       "\n",
       "                                             summary  \\\n",
       "0  Perfect for your vacation, Staycation or just ...   \n",
       "1  The 'Auwai Suite is a lovely, self-contained a...   \n",
       "\n",
       "                                               space  \\\n",
       "0  Mauka B & B is 400 square feet studio with a p...   \n",
       "1  The ‘Auwai Suite is a lovely, self-contained a...   \n",
       "\n",
       "                                         description experiences_offered  \\\n",
       "0  Perfect for your vacation, Staycation or just ...                none   \n",
       "1  The 'Auwai Suite is a lovely, self-contained a...                none   \n",
       "\n",
       "                               neighborhood_overview  \\\n",
       "0  Neighbors here are friendly but are not really...   \n",
       "1  We are located on the \"sunny side\" of Waimea, ...   \n",
       "\n",
       "                                               notes  \\\n",
       "0  Located near by is Kalopa State Park with 100 ...   \n",
       "1                                                NaN   \n",
       "\n",
       "                                             transit  \\\n",
       "0  There  is a bus stop located in Honoka'a town ...   \n",
       "1       One parking spot is provided with your stay.   \n",
       "\n",
       "                                              access  ...  \\\n",
       "0                           A BBQ grill is available  ...   \n",
       "1  You'll have access to your private garden suit...  ...   \n",
       "\n",
       "           cancellation_policy require_guest_profile_picture  \\\n",
       "0                     moderate                             f   \n",
       "1  strict_14_with_grace_period                             f   \n",
       "\n",
       "   require_guest_phone_verification calculated_host_listings_count  \\\n",
       "0                                 f                              2   \n",
       "1                                 f                              5   \n",
       "\n",
       "  calculated_host_listings_count_entire_homes  \\\n",
       "0                                           2   \n",
       "1                                           4   \n",
       "\n",
       "  calculated_host_listings_count_private_rooms  \\\n",
       "0                                            0   \n",
       "1                                            1   \n",
       "\n",
       "  calculated_host_listings_count_shared_rooms reviews_per_month  \\\n",
       "0                                           0              0.45   \n",
       "1                                           0              0.09   \n",
       "\n",
       "  Bin_NumProperties Bin_NumReviews  \n",
       "0   0-50 properties          11-20  \n",
       "1   0-50 properties            NaN  \n",
       "\n",
       "[2 rows x 87 columns]"
      ]
     },
     "execution_count": 17,
     "metadata": {},
     "output_type": "execute_result"
    }
   ],
   "source": [
    "# Define the bins by number of properties by host\n",
    "bins = [0, 50, 100, 150, 200, 250, 299]\n",
    "\n",
    "# labels - always one less than the range\n",
    "group_names = [\"0-50 properties\", \"51-100 properties\", \"101-150 properties\", \"151-200 properties\",\\\n",
    "               \"201-250 properties\", \"251+ properties\"]\n",
    "\n",
    "df[\"Bin_NumProperties\"] = pd.cut(df[\"calculated_host_listings_count\"], bins, labels=group_names)\n",
    "\n",
    "rating_mean_by_bin = df.groupby(\"Bin_NumProperties\").mean()[\"review_scores_rating\"]\n",
    "\n",
    "df.head(2)"
   ]
  },
  {
   "cell_type": "code",
   "execution_count": 18,
   "metadata": {},
   "outputs": [
    {
     "data": {
      "text/plain": [
       "<function matplotlib.pyplot.show(*args, **kw)>"
      ]
     },
     "execution_count": 18,
     "metadata": {},
     "output_type": "execute_result"
    },
    {
     "data": {
      "image/png": "[encoded data removed]",
      "text/plain": [
       "<Figure size 1080x720 with 1 Axes>"
      ]
     },
     "metadata": {
      "needs_background": "light"
     },
     "output_type": "display_data"
    }
   ],
   "source": [
    "# Define the axis\n",
    "x_axis = group_names\n",
    "y_axis = rating_mean_by_bin\n",
    "\n",
    "# Bring in the colors from Hawaii\n",
    "hawaiian_hibiscus_hex_palette = [\"#ffa4cd\", \"#ff4e9e\", \"#ff0040\", \"#ffcd55\", \"#ffa700\"]\n",
    "\n",
    "# Define the properties of the figure\n",
    "\n",
    "plt.subplots(figsize=(15,10))\n",
    "plt.title(\"Average Rating per Number of Properties\")\n",
    "plt.xlabel(\"Number of Properties\")\n",
    "plt.ylabel(\"Average Rating\")\n",
    "plt.xticks(rotation=90)\n",
    "plt.ylim(0, 100)\n",
    "plt.bar(x_axis, y_axis, color = hawaiian_hibiscus_hex_palette)\n",
    "\n",
    "# Show the figure\n",
    "plt.show"
   ]
  },
  {
   "cell_type": "raw",
   "metadata": {},
   "source": [
    "#ask Meg the objective of the figure below "
   ]
  },
  {
   "cell_type": "code",
   "execution_count": 19,
   "metadata": {},
   "outputs": [
    {
     "data": {
      "text/plain": [
       "<matplotlib.axes._subplots.AxesSubplot at 0x251a2053788>"
      ]
     },
     "execution_count": 19,
     "metadata": {},
     "output_type": "execute_result"
    },
    {
     "data": {
      "image/png": "[encoded data removed]",
      "text/plain": [
       "<Figure size 1440x720 with 1 Axes>"
      ]
     },
     "metadata": {
      "needs_background": "light"
     },
     "output_type": "display_data"
    }
   ],
   "source": [
    "df.boxplot(\"review_scores_rating\", by=\"Bin_NumProperties\", figsize=(20, 10))"
   ]
  },
  {
   "cell_type": "markdown",
   "metadata": {},
   "source": [
    "To run the next code, we have \"import scipy.stats as stats\".\n",
    "Next we are creating a set of group by Number of properties and review score rating"
   ]
  },
  {
   "cell_type": "code",
   "execution_count": 20,
   "metadata": {},
   "outputs": [
    {
     "data": {
      "text/plain": [
       "F_onewayResult(statistic=43.20051018106537, pvalue=1.9870577727779467e-44)"
      ]
     },
     "execution_count": 20,
     "metadata": {},
     "output_type": "execute_result"
    }
   ],
   "source": [
    "# Extract individual groups\n",
    "group1 = df[df[\"Bin_NumProperties\"] == \"0-50 properties\"][\"review_scores_rating\"].dropna()\n",
    "group2 = df[df[\"Bin_NumProperties\"] == \"51-100 properties\"][\"review_scores_rating\"].dropna()\n",
    "group3 = df[df[\"Bin_NumProperties\"] == \"101-150 properties\"][\"review_scores_rating\"].dropna()\n",
    "group4 = df[df[\"Bin_NumProperties\"] == \"151-200 properties\"][\"review_scores_rating\"].dropna()\n",
    "group5 = df[df[\"Bin_NumProperties\"] == \"201-250 properties\"][\"review_scores_rating\"].dropna()\n",
    "group6 = df[df[\"Bin_NumProperties\"] == \"251+ properties\"][\"review_scores_rating\"].dropna()\n",
    "\n",
    "stats.f_oneway(group1, group2, group3, group4, group5, group6)"
   ]
  },
  {
   "cell_type": "markdown",
   "metadata": {},
   "source": [
    "Define neighbourhood"
   ]
  },
  {
   "cell_type": "code",
   "execution_count": 21,
   "metadata": {},
   "outputs": [
    {
     "data": {
      "text/plain": [
       "<function matplotlib.pyplot.show(*args, **kw)>"
      ]
     },
     "execution_count": 21,
     "metadata": {},
     "output_type": "execute_result"
    },
    {
     "data": {
      "image/png": "[encoded data removed]",
      "text/plain": [
       "<Figure size 1080x720 with 1 Axes>"
      ]
     },
     "metadata": {
      "needs_background": "light"
     },
     "output_type": "display_data"
    }
   ],
   "source": [
    "neighborhood_list = df[\"neighbourhood\"].unique()\n",
    "\n",
    "average_rating_per_neighborhood = df.groupby(\"neighbourhood\").mean()[\"review_scores_rating\"]\n",
    "average_rating_per_neighborhood\n",
    "\n",
    "x_axis = neighborhood_list\n",
    "y_axis = average_rating_per_neighborhood\n",
    "\n",
    "cleaned_neighborhood_list = [x for x in neighborhood_list if str(x) != 'nan']\n",
    "cleaned_neighborhood_list.sort()\n",
    "cleaned_neighborhood_list\n",
    "\n",
    "x_axis = cleaned_neighborhood_list\n",
    "y_axis = average_rating_per_neighborhood\n",
    "\n",
    "hawaiian_hibiscus_hex_palette = [\"#ffa4cd\", \"#ff4e9e\", \"#ff0040\", \"#ffcd55\", \"#ffa700\"]\n",
    "\n",
    "plt.subplots(figsize=(15,10))\n",
    "plt.xticks(rotation=90)\n",
    "plt.title(\"Average Rating per Number of Properties\")\n",
    "plt.xlabel(\"Number of Properties\")\n",
    "plt.ylabel(\"Average Rating\")\n",
    "plt.ylim(0, 100)\n",
    "plt.bar(x_axis, y_axis, color = hawaiian_hibiscus_hex_palette, align='center')\n",
    "plt.show"
   ]
  },
  {
   "cell_type": "raw",
   "metadata": {},
   "source": [
    "write notes here for the code below"
   ]
  },
  {
   "cell_type": "code",
   "execution_count": 22,
   "metadata": {},
   "outputs": [
    {
     "name": "stdout",
     "output_type": "stream",
     "text": [
      "The r-squared is: 0.018787686050668887\n"
     ]
    },
    {
     "data": {
      "image/png": "[encoded data removed]",
      "text/plain": [
       "<Figure size 1080x720 with 1 Axes>"
      ]
     },
     "metadata": {
      "needs_background": "light"
     },
     "output_type": "display_data"
    }
   ],
   "source": [
    "# Define axis\n",
    "x_axis = df[\"price\"]\n",
    "y_axis = df[\"review_scores_rating\"]\n",
    "\n",
    "\n",
    "mask = ~np.isnan(x_axis) & ~np.isnan(y_axis)\n",
    "slope, intercept, r_value, p_value, std_err = stats.linregress(x_axis[mask], y_axis[mask])\n",
    "regress_values = x_axis * slope + intercept\n",
    "line_eq = \"y = \" + str(round(slope,4)) + \"x + \" + str(round(intercept,4))\n",
    "\n",
    "plt.subplots(figsize=(15,10))\n",
    "plt.xticks(rotation=90)\n",
    "plt.xlim(0, 5500)\n",
    "plt.plot(x_axis,regress_values,\"r-\")\n",
    "plt.scatter(x_axis,y_axis)\n",
    "plt.annotate(line_eq,(4000,50),fontsize=15,color=\"red\")\n",
    "plt.xlabel('Price')\n",
    "plt.ylabel('Rating')\n",
    "print(f\"The r-squared is: {r_value}\")\n",
    "plt.show()"
   ]
  },
  {
   "cell_type": "markdown",
   "metadata": {},
   "source": [
    "Armon Code Below:\n",
    "Evaluate the relationship between \"number of bedrooms\" and review_scores_rating.\n",
    "\n",
    "Observations:"
   ]
  },
  {
   "cell_type": "code",
   "execution_count": 24,
   "metadata": {},
   "outputs": [],
   "source": [
    "# create a dataframe with no 0's for 'number of beds' becuase that would be inaccurate data\n",
    "df2 = df.copy()\n",
    "df2 = df2[(df2['beds'] != 0)]"
   ]
  },
  {
   "cell_type": "code",
   "execution_count": 25,
   "metadata": {},
   "outputs": [],
   "source": [
    "# zero beds is actually an option. A 'sofa bed' is not a real bed and is not counted as such.\n",
    "bins = [0, 2, 4, 6, 8, 10, 12, 20]\n",
    "\n",
    "group_names = [\"1-2 beds\", \"3-4 beds\", \"5-6 beds\", \"7-8 beds\", \"9-10 beds\", \"11-12 beds\", \"13+ beds\"]\n",
    "\n",
    "df2[\"bin_bed_count\"] = pd.cut(df2[\"beds\"], bins, labels=group_names)\n",
    "\n",
    "rating_mean_by_bed_count = df2.groupby(\"bin_bed_count\").mean()[\"review_scores_rating\"]"
   ]
  },
  {
   "cell_type": "code",
   "execution_count": 26,
   "metadata": {},
   "outputs": [
    {
     "data": {
      "text/plain": [
       "<function matplotlib.pyplot.show(*args, **kw)>"
      ]
     },
     "execution_count": 26,
     "metadata": {},
     "output_type": "execute_result"
    },
    {
     "data": {
      "image/png": "[encoded data removed]",
      "text/plain": [
       "<Figure size 1080x720 with 1 Axes>"
      ]
     },
     "metadata": {
      "needs_background": "light"
     },
     "output_type": "display_data"
    }
   ],
   "source": [
    "x_axis = group_names\n",
    "y_axis = rating_mean_by_bed_count\n",
    "\n",
    "hawaiian_hex_palette = [\"#00739f\", \"#b23948\", \"#ff000e\", \"#ff407c\", \"#ffb2e1\"]\n",
    "\n",
    "plt.subplots(figsize=(15,10))\n",
    "plt.title(\"Average Rating per Number of Beds\")\n",
    "plt.xlabel(\"Number of Beds\")\n",
    "plt.ylabel(\"Average Rating\")\n",
    "plt.xticks(rotation=90)\n",
    "plt.ylim(0, 100)\n",
    "plt.bar(x_axis, y_axis, color = hawaiian_hibiscus_hex_palette)\n",
    "plt.show"
   ]
  },
  {
   "cell_type": "markdown",
   "metadata": {},
   "source": [
    "Lance Code Below:\n",
    "Evaluate the relationship between \"Type of place\" and review_scores_rating\n",
    "Evaluate the relationship between \"Island\" and review_scores_rating"
   ]
  },
  {
   "cell_type": "code",
   "execution_count": 27,
   "metadata": {},
   "outputs": [
    {
     "data": {
      "text/plain": [
       "property_type\n",
       "Aparthotel                 92.649123\n",
       "Apartment                  93.820818\n",
       "Barn                       95.333333\n",
       "Bed and breakfast          95.806061\n",
       "Boat                       95.166667\n",
       "Boutique hotel             89.837209\n",
       "Bungalow                   95.305732\n",
       "Bus                        97.000000\n",
       "Cabin                      94.255814\n",
       "Camper/RV                  93.411765\n",
       "Campsite                   95.500000\n",
       "Casa particular (Cuba)     93.000000\n",
       "Castle                     96.000000\n",
       "Chalet                     90.200000\n",
       "Condominium                94.314025\n",
       "Cottage                    96.919094\n",
       "Dome house                 95.000000\n",
       "Dorm                       88.000000\n",
       "Earth house                95.500000\n",
       "Farm stay                  96.988636\n",
       "Guest suite                96.588076\n",
       "Guesthouse                 96.773270\n",
       "Hostel                     86.384615\n",
       "Hotel                      90.876923\n",
       "House                      95.415111\n",
       "Hut                        95.000000\n",
       "Island                     90.714286\n",
       "Loft                       94.625000\n",
       "Nature lodge               88.260870\n",
       "Other                      93.945205\n",
       "Resort                     97.673684\n",
       "Serviced apartment         94.702564\n",
       "Tent                       95.631579\n",
       "Timeshare                 100.000000\n",
       "Tiny house                 95.714286\n",
       "Townhouse                  95.563474\n",
       "Treehouse                  98.307692\n",
       "Vacation home              93.000000\n",
       "Villa                      96.764085\n",
       "Yurt                       96.200000\n",
       "Name: review_scores_rating, dtype: float64"
      ]
     },
     "execution_count": 27,
     "metadata": {},
     "output_type": "execute_result"
    }
   ],
   "source": [
    "# Define a group by every rating properties\n",
    "average_rating_prop = df.groupby(\"property_type\").mean()[\"review_scores_rating\"]\n",
    "#property_type = df.groupby(\"property_type\").count()[\"id\"]\n",
    "\n",
    "# dropped NaN values for property types that do not have ratings in hawaii such as 'igloo'\n",
    "average_rating_prop = average_rating_prop.dropna()\n",
    "average_rating_prop"
   ]
  },
  {
   "cell_type": "code",
   "execution_count": 29,
   "metadata": {},
   "outputs": [
    {
     "data": {
      "text/plain": [
       "<function matplotlib.pyplot.show(*args, **kw)>"
      ]
     },
     "execution_count": 29,
     "metadata": {},
     "output_type": "execute_result"
    },
    {
     "data": {
      "image/png": "[encoded data removed]",
      "text/plain": [
       "<Figure size 1080x720 with 1 Axes>"
      ]
     },
     "metadata": {
      "needs_background": "light"
     },
     "output_type": "display_data"
    }
   ],
   "source": [
    "# set x and y axis for bar graph\n",
    "x_axis = df[\"property_type\"].unique()\n",
    "y_axis = average_rating_prop\n",
    "\n",
    "# print lables/title and x/y limits to improve visual\n",
    "plt.subplots(figsize=(15,10))\n",
    "plt.title(\"Average Rating per Type of Property\")\n",
    "plt.xlabel(\"Average Rating\")\n",
    "plt.ylabel(\"Property Type\")\n",
    "plt.xticks(rotation=90)\n",
    "plt.ylim(85, 100)\n",
    "\n",
    "# display graph\n",
    "plt.bar(x_axis, y_axis, color = hawaiian_hibiscus_hex_palette)\n",
    "plt.show"
   ]
  },
  {
   "cell_type": "code",
   "execution_count": 34,
   "metadata": {},
   "outputs": [
    {
     "data": {
      "text/plain": [
       "Text(0.5, 1.0, 'Property types availability in AirBnB')"
      ]
     },
     "execution_count": 34,
     "metadata": {},
     "output_type": "execute_result"
    },
    {
     "data": {
      "image/png": "[encoded data removed]",
      "text/plain": [
       "<Figure size 576x576 with 1 Axes>"
      ]
     },
     "metadata": {},
     "output_type": "display_data"
    }
   ],
   "source": [
    "# Build a pie to show the availability by property type in Airbnb Hawaii.\n",
    "prop_type_pie=df.property_type.value_counts()/len(df.property_type)\n",
    "prop_type_pie.plot.pie(autopct='%.2f',fontsize=12,figsize=(8,8))\n",
    "plt.title('Property types availability in AirBnB',fontsize=20)"
   ]
  },
  {
   "cell_type": "code",
   "execution_count": 40,
   "metadata": {},
   "outputs": [
    {
     "data": {
      "text/plain": [
       "Text(0.5, 1.0, 'Property Room types availability in AirBnB')"
      ]
     },
     "execution_count": 40,
     "metadata": {},
     "output_type": "execute_result"
    },
    {
     "data": {
      "image/png": "[encoded data removed]",
      "text/plain": [
       "<Figure size 576x576 with 1 Axes>"
      ]
     },
     "metadata": {},
     "output_type": "display_data"
    }
   ],
   "source": [
    "# Build a pie to show the availability by property room type in Airbnb Hawaii.\n",
    "room_type_pie=df.room_type.value_counts()/len(df.room_type)\n",
    "room_type_pie.plot.pie(autopct='%.2f',fontsize=12,figsize=(8,8))\n",
    "plt.title('Property Room types availability in AirBnB',fontsize=20)"
   ]
  },
  {
   "cell_type": "code",
   "execution_count": 42,
   "metadata": {},
   "outputs": [
    {
     "data": {
      "text/plain": [
       "Text(0.5, 1.0, 'Neighbourhood groups Vs Room Types Availability')"
      ]
     },
     "execution_count": 42,
     "metadata": {},
     "output_type": "execute_result"
    },
    {
     "data": {
      "image/png": "[encoded data removed]",
      "text/plain": [
       "<Figure size 1080x720 with 1 Axes>"
      ]
     },
     "metadata": {
      "needs_background": "light"
     },
     "output_type": "display_data"
    }
   ],
   "source": [
    "plt.subplots(figsize=(15,10))\n",
    "df.groupby(['neighbourhood_group_cleansed','room_type']).room_type.count().plot.barh(stacked=True)\n",
    "plt.ylabel('Neighbourhood wise room types')\n",
    "plt.xlabel('Number of Rooms')\n",
    "plt.title('Neighbourhood groups Vs Room Types Availability')"
   ]
  },
  {
   "cell_type": "code",
   "execution_count": null,
   "metadata": {},
   "outputs": [],
   "source": [
    "plt.figure(figsize=(10,6))\n",
    "plt.scatter(df.longitude, df.latitude, c=df.availability_365, cmap='spring',\\\n",
    "            edgecolor='black', linewidth=1, alpha=0.75)\n",
    "\n",
    "cbar = plt.colorbar()\n",
    "cbar.set_label('availability_365')"
   ]
  },
  {
   "cell_type": "raw",
   "metadata": {},
   "source": [
    "Linear Regression \n"
   ]
  },
  {
   "cell_type": "code",
   "execution_count": null,
   "metadata": {},
   "outputs": [],
   "source": []
  }
 ],
 "metadata": {
  "kernelspec": {
   "display_name": "Python 3",
   "language": "python",
   "name": "python3"
  },
  "language_info": {
   "codemirror_mode": {
    "name": "ipython",
    "version": 3
   },
   "file_extension": ".py",
   "mimetype": "text/x-python",
   "name": "python",
   "nbconvert_exporter": "python",
   "pygments_lexer": "ipython3",
   "version": "3.7.4"
  }
 },
 "nbformat": 4,
 "nbformat_minor": 2
}
