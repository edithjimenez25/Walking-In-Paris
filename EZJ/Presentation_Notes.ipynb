{
 "cells": [
  {
   "cell_type": "markdown",
   "metadata": {},
   "source": [
    "# Presentation Content: Walking in Paris Team"
   ]
  },
  {
   "cell_type": "raw",
   "metadata": {},
   "source": [
    "Objective:\n",
    "Identify the attributes that make Airbnb “Successful” \n",
    "Find the best place to stay in Hawaii\n"
   ]
  },
  {
   "cell_type": "raw",
   "metadata": {},
   "source": [
    "Hypothesis:\n",
    "Ho:\n",
    "The number of properties rented out by a host has no impact on rating.\n",
    "\n",
    "Null Hypothesis:\n",
    "H1:\n",
    "None of the factors we are analyzing (neighborhood, number of listings per host, room type, price, keywords in description, how long the host has been hosting, and certain amenities) have an impact on the overall rating.\n"
   ]
  },
  {
   "cell_type": "raw",
   "metadata": {},
   "source": []
  },
  {
   "cell_type": "raw",
   "metadata": {},
   "source": [
    "Potential:\n",
    "Use Google Places API to see if there is a relationship between \"Major attraction\", beach, and high bookings"
   ]
  },
  {
   "cell_type": "markdown",
   "metadata": {},
   "source": [
    "Cleanning the data:"
   ]
  },
  {
   "cell_type": "code",
   "execution_count": null,
   "metadata": {},
   "outputs": [],
   "source": [
    "List of the variables on the dataset. Comprise 106 columns, 23,746 rows. It will be approximately 2,517,076 data points.\n",
    "\n",
    "The column named \"id\" is similar than the index.\n",
    "    id\n",
    "    listing_url\n",
    "    scrape_id     --> Values not required\n",
    "    last_scraped  --> Values not required\n",
    "    name\n",
    "    summary\n",
    "    space\n",
    "    description\n",
    "    experiences_offered     --> Values not required\n",
    "    neighborhood_overview\n",
    "    notes\n",
    "    transit\n",
    "    access\n",
    "    interaction\n",
    "    house_rules\n",
    "    thumbnail_url    ----> Column in blank\n",
    "    medium_url       ----> Column in blank\n",
    "    picture_url      ----> Values not required\n",
    "    xl_picture_url    ----> Column in blank\n",
    "    host_id\n",
    "    host_url         --> Values not required\n",
    "    host_name\n",
    "    host_since\n",
    "    host_location\n",
    "    host_about\n",
    "    host_response_time\n",
    "    host_response_rate \n",
    "    host_acceptance_rate     ----> Column in blank\n",
    "    host_is_superhost\n",
    "    host_thumbnail_url    --> Values not required\n",
    "    host_picture_url      --> Values not required\n",
    "    host_neighbourhood\n",
    "    host_listings_count   --> Data duplicate on column host_total_listings_count \n",
    "    host_total_listings_count\n",
    "    host_verifications       ----> Column in blank\n",
    "    host_has_profile_pic\n",
    "    host_identity_verified\n",
    "    street\n",
    "    neighbourhood\n",
    "    neighbourhood_cleansed\n",
    "    neighbourhood_group_cleansed\n",
    "    city\n",
    "    state\n",
    "    zipcode\n",
    "    market\n",
    "    smart_location    --> Values not required\n",
    "    country_code      --> Values not required\n",
    "    country\n",
    "    latitude\n",
    "    longitude\n",
    "    is_location_exact   --> Values not required\n",
    "    property_type\n",
    "    room_type\n",
    "    accommodates\n",
    "    bathrooms\n",
    "    bedrooms\n",
    "    beds\n",
    "    bed_type    --> Values not required\n",
    "    amenities\n",
    "    square_feet\n",
    "    price\n",
    "    weekly_price\n",
    "    monthly_price\n",
    "    security_deposit\n",
    "    cleaning_fee\n",
    "    guests_included\n",
    "    extra_people\n",
    "    minimum_nights\n",
    "    maximum_nights\n",
    "    minimum_minimum_nights\n",
    "    maximum_minimum_nights\n",
    "    minimum_maximum_nights\n",
    "    maximum_maximum_nights\n",
    "    minimum_nights_avg_ntm\n",
    "    maximum_nights_avg_ntm\n",
    "    calendar_updated    --> Values not required\n",
    "    has_availability   --> Values not required\n",
    "    availability_30    --> Values not required\n",
    "    availability_60    --> Values not required\n",
    "    availability_90    --> Values not required\n",
    "    availability_365   --> Values not required\n",
    "    calendar_last_scraped   --> Values not required\n",
    "    number_of_reviews\n",
    "    number_of_reviews_ltm\n",
    "    first_review\n",
    "    last_review\n",
    "    review_scores_rating\n",
    "    review_scores_accuracy\n",
    "    review_scores_cleanliness\n",
    "    review_scores_checkin\n",
    "    review_scores_communication\n",
    "    review_scores_location\n",
    "    review_scores_value\n",
    "    requires_license   --> Values not required\n",
    "    license            --> Values not required\n",
    "    jurisdiction_names  --> Values not required\n",
    "    instant_bookable   --> Values not required\n",
    "    is_business_travel_ready   --> Values not required\n",
    "    cancellation_policy\n",
    "    require_guest_profile_picture  --> Values not required\n",
    "    require_guest_phone_verification  --> Values not required\n",
    "    calculated_host_listings_count\n",
    "    calculated_host_listings_count_entire_homes\n",
    "    calculated_host_listings_count_private_rooms\n",
    "    calculated_host_listings_count_shared_rooms\n",
    "    reviews_per_month\n",
    "\n",
    "\n",
    "\n",
    "\n"
   ]
  },
  {
   "cell_type": "code",
   "execution_count": null,
   "metadata": {},
   "outputs": [],
   "source": [
    "Cleaning raw data (airbnb) to delete the column with not values, columns values duplicated, columns with data not required.\n",
    "1.- The following columns has been drop from the analysis: \n",
    "    \"thumbnail_url\", \n",
    "    \"picture_url\", \n",
    "    \"medium_url\", \n",
    "    \"xl_picture_url\", \n",
    "    \"host_url\", \n",
    "    \"host_thumbnail_url\", \n",
    "    \"host_picture_url\", \n",
    "    \"scrape_id\",\n",
    "    \"host_listings_count\", # There is a host_total_listings_count that is a dupe\n",
    "    \"host_acceptance_rate\", # NaN\n",
    "    \"calendar_last_scraped\",\n",
    "    \"bed_type\",\n",
    "    \"last_scraped\",\n",
    "    \"calendar_updated\",\n",
    "    \"has_availability\",\n",
    "    \"availability_30\", \n",
    "    \"availability_60\", \n",
    "    \"availability_90\", \n",
    "    \"availability_365\", \n",
    "    \"license\"\n",
    "    \n",
    "2.- Drop the row on the columns \"number of reviews\" equal to zero or blank. Similarly, drop rows were dta is nan on the following columns: \n",
    "    'review_scores_rating', \n",
    "    'review_scores_accuracy', \n",
    "    'review_scores_cleanliness', \n",
    "    'review_scores_checkin', \n",
    "    'review_scores_communication', \n",
    "    'review_scores_location', \n",
    "    'review_scores_value'\n",
    "    \n",
    "3.-"
   ]
  },
  {
   "cell_type": "raw",
   "metadata": {},
   "source": [
    "Analysis: Identify the variable that has more impact in the best value and best price. Variable to be evaluate: neighborhood, type of place, "
   ]
  },
  {
   "cell_type": "raw",
   "metadata": {},
   "source": [
    "Evaluate the relationship between \"age of property\" and review_scores_rating"
   ]
  },
  {
   "cell_type": "code",
   "execution_count": null,
   "metadata": {},
   "outputs": [],
   "source": []
  },
  {
   "cell_type": "raw",
   "metadata": {},
   "source": [
    "Evaluate the relationship between \"price\" and review_scores_rating"
   ]
  },
  {
   "cell_type": "code",
   "execution_count": null,
   "metadata": {},
   "outputs": [],
   "source": [
    "Meg"
   ]
  },
  {
   "cell_type": "markdown",
   "metadata": {},
   "source": [
    "Evaluate the relationship between \"how many properties someone has\" and review_scores_rating\n"
   ]
  },
  {
   "cell_type": "code",
   "execution_count": null,
   "metadata": {},
   "outputs": [],
   "source": [
    "Meg"
   ]
  },
  {
   "cell_type": "raw",
   "metadata": {},
   "source": [
    "Evaluate the relationship between \"number of bedrooms\" and review_scores_rating\n"
   ]
  },
  {
   "cell_type": "code",
   "execution_count": null,
   "metadata": {},
   "outputs": [],
   "source": [
    "Armon"
   ]
  },
  {
   "cell_type": "raw",
   "metadata": {},
   "source": [
    "Evaluate the relationship between \"neighborhoods\" and review_scores_rating\n"
   ]
  },
  {
   "cell_type": "code",
   "execution_count": null,
   "metadata": {},
   "outputs": [],
   "source": [
    "Meg"
   ]
  },
  {
   "cell_type": "raw",
   "metadata": {},
   "source": [
    "Evaluate the relationship between \"Type of place\" and review_scores_rating"
   ]
  },
  {
   "cell_type": "code",
   "execution_count": null,
   "metadata": {},
   "outputs": [],
   "source": [
    "Lance"
   ]
  },
  {
   "cell_type": "raw",
   "metadata": {},
   "source": [
    "Evaluate the relationship between \"Island\" and review_scores_rating\n"
   ]
  },
  {
   "cell_type": "code",
   "execution_count": null,
   "metadata": {},
   "outputs": [],
   "source": [
    "Lance"
   ]
  },
  {
   "cell_type": "raw",
   "metadata": {},
   "source": [
    "Consolidation of the code "
   ]
  },
  {
   "cell_type": "code",
   "execution_count": null,
   "metadata": {},
   "outputs": [],
   "source": [
    "Edith and used it to write the note for the power point presentation\n",
    "Meg to make a review of the code after consolidation"
   ]
  },
  {
   "cell_type": "raw",
   "metadata": {},
   "source": [
    "Technical review of the code"
   ]
  },
  {
   "cell_type": "code",
   "execution_count": null,
   "metadata": {},
   "outputs": [],
   "source": [
    "Scott: check the code is running and make any necessary adjustment\n"
   ]
  },
  {
   "cell_type": "raw",
   "metadata": {},
   "source": [
    "Draft presentation consolidate - Edith and Meg"
   ]
  },
  {
   "cell_type": "code",
   "execution_count": null,
   "metadata": {},
   "outputs": [],
   "source": [
    "Edith and Meg"
   ]
  },
  {
   "cell_type": "raw",
   "metadata": {},
   "source": [
    "Recommendations"
   ]
  },
  {
   "cell_type": "code",
   "execution_count": null,
   "metadata": {},
   "outputs": [],
   "source": [
    "Team"
   ]
  },
  {
   "cell_type": "markdown",
   "metadata": {},
   "source": []
  }
 ],
 "metadata": {
  "kernelspec": {
   "display_name": "Python 3",
   "language": "python",
   "name": "python3"
  },
  "language_info": {
   "codemirror_mode": {
    "name": "ipython",
    "version": 3
   },
   "file_extension": ".py",
   "mimetype": "text/x-python",
   "name": "python",
   "nbconvert_exporter": "python",
   "pygments_lexer": "ipython3",
   "version": "3.7.4"
  }
 },
 "nbformat": 4,
 "nbformat_minor": 2
}
