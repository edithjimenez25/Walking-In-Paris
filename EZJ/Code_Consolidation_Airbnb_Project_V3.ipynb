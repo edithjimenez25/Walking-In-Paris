{
 "cells": [
  {
   "cell_type": "markdown",
   "metadata": {},
   "source": [
    "# Project Team: Walking in Paris"
   ]
  },
  {
   "cell_type": "markdown",
   "metadata": {},
   "source": [
    "### Objective:\n",
    "Identify the attributes that make Airbnb “Successful” \n",
    "Find the best place to stay in Hawaii"
   ]
  },
  {
   "cell_type": "raw",
   "metadata": {},
   "source": [
    "DESCRIBE DEPENDENCIES AND SET UP THE NOTEBOOK\n",
    "We  would import the following modules:\n",
    "matplotlib.pyplot for plotting\n",
    "Pandas for managing datasets.\n",
    "Numpy for scientific numerical values\n",
    "Requests for httm request\n",
    "Time for functions for manipulating dates and times\n",
    "Scipy for statistics \n",
    "Seaborn for improve data visualization\n",
    "Pprint for improve print\n",
    "Json for parse json into Python\n",
    "Incorporate citipy to management the location of the city.\n",
    "Zipfile for work with ZIP archives\n",
    "\n",
    "The complete import statement and set up process are given below:"
   ]
  },
  {
   "cell_type": "code",
   "execution_count": null,
   "metadata": {},
   "outputs": [],
   "source": [
    "# Dependencies and Setup\n",
    "import matplotlib.pyplot as plt\n",
    "import pandas as pd\n",
    "import numpy as np\n",
    "import requests\n",
    "import time\n",
    "\n",
    "# Import statistic library\n",
    "import scipy.stats as stats\n",
    "from scipy.stats import linregress\n",
    "\n",
    "# Import seaborn library to create figure\n",
    "import seaborn as sns\n",
    "\n",
    "import pprint\n",
    "import json\n",
    "from time import sleep\n",
    "from datetime import date\n",
    "import zipfile\n",
    "\n",
    "# Incorporated citipy to determine city based on latitude and longitude\n",
    "# pip install citipy\n",
    "from citipy import citipy\n",
    "\n",
    "# Output File location\n",
    "output_folder = \"output_data\""
   ]
  },
  {
   "cell_type": "markdown",
   "metadata": {},
   "source": [
    "OPEN THE DATASET\n",
    "Open the dataset from the zip file and ensure memory resources"
   ]
  },
  {
   "cell_type": "code",
   "execution_count": null,
   "metadata": {},
   "outputs": [],
   "source": [
    "# Open the zip file\n",
    "zf = zipfile.ZipFile('./source_data/detail_listings.zip') \n",
    "df = pd.read_csv(zf.open('detail_listings.csv'), low_memory=False)\n",
    "\n",
    "rows_in_df = len(df)\n",
    "print(f'Data set has {rows_in_df} rows')"
   ]
  },
  {
   "cell_type": "markdown",
   "metadata": {},
   "source": [
    "DATA PREPARATION STEP 1:\n",
    "Organize the columns to make the analysis easy"
   ]
  },
  {
   "cell_type": "code",
   "execution_count": null,
   "metadata": {},
   "outputs": [],
   "source": [
    "# Group the columns and show the list of the columns\n",
    "\n",
    "print('')\n",
    "print('----------------------')\n",
    "print('Property-specific columns:')\n",
    "print('----------------------')\n",
    "\n",
    "# Create a wildcard to search the terms\n",
    "cols = [\"experiences_offered\", \"street\", \"city\", \"state\", \"zipcode\", \"market\", \"country\", \"property\"\n",
    "    , \"location\", \"accomodate\", \"room\", \"guest\", \"is_business_travel_ready\", \"instant_bookable\", \"cancel\"]\n",
    "\n",
    "# Lopps the columns\n",
    "for col in df.columns: \n",
    "    if col in cols:\n",
    "        print(col) \n",
    "        \n",
    "print('')\n",
    "print('----------------------')\n",
    "print('All columns:')\n",
    "print('----------------------')\n",
    "for col in df.columns: \n",
    "    print(col)"
   ]
  },
  {
   "cell_type": "markdown",
   "metadata": {},
   "source": [
    "DATA PREPARATION STEP 2: \n",
    "Created separate data dictionary data frame to allow us to “group” columns (Property-related, Neighborhood-related, etc)"
   ]
  },
  {
   "cell_type": "code",
   "execution_count": null,
   "metadata": {},
   "outputs": [],
   "source": [
    "# Create a dataframe with one (1) row for each column in the source data:\n",
    "data_dict = pd.DataFrame(columns = [\n",
    "    \"ColumNumber\"\n",
    "    , \"Column\"\n",
    "    , \"Group\"\n",
    "    , \"Subgroup\"\n",
    "    , \"Notes\"\n",
    "])\n",
    "\n",
    "# Loop through the columns in the data frame\n",
    "for column in df:\n",
    "    data_dict = data_dict.append({\n",
    "            \"Column\": column\n",
    "            , \"Group\": \"\"\n",
    "            , \"Subgroup\": \"\"\n",
    "            , \"Notes\": \"\"\n",
    "        }\n",
    "        , ignore_index=True\n",
    "    )\n",
    "\n",
    "# Make the index the column number\n",
    "data_dict['ColumNumber'] = data_dict.index\n",
    "        \n",
    "# Add context for each column \n",
    "for index, row in data_dict.iterrows():\n",
    "    val = str(row[\"Column\"])\n",
    "    \n",
    "    if val == \"id\":\n",
    "        data_dict.loc[index, \"Notes\"] = \"Primary Key\"\n",
    "    # Val.startswith(\"host_\")  \n",
    "    if val.find(\"host\") > -1: \n",
    "        data_dict.loc[index, \"Group\"] = \"Host-related\"\n",
    "    \n",
    "    if val.find(\"review\") > -1:\n",
    "        data_dict.loc[index, \"Group\"] = \"Review-related\"\n",
    "        \n",
    "    if (val.find(\"rule\") > -1) | (val.find(\"require\") > -1):\n",
    "        data_dict.loc[index, \"Group\"] = \"Requirements-related\"\n",
    "        \n",
    "    if (val.find(\"neighbo\") > -1):\n",
    "        data_dict.loc[index, \"Group\"] = \"Neighborhood-related\"\n",
    "        \n",
    "    if (val.find(\"nights\") > -1):\n",
    "        data_dict.loc[index, \"Group\"] = \"Booking-related\"\n",
    "        \n",
    "    # Property specific:\n",
    "    cols = [\n",
    "        \"property\", \"room\", \"guest\", \"is_business_travel_ready\", \"instant_bookable\", \"cancel\",\n",
    "        \"space\", \"name\", \"summary\", \"description\", \"notes\", \"transit\", \"access\", \"interaction\",\n",
    "        \"property_type\", \"room_type\", \"amenities\"\n",
    "    ]\n",
    "    if any(word in val for word in cols):\n",
    "        data_dict.loc[index, \"Group\"] = \"Property-related\"\n",
    "        \n",
    "    # Property - \"Location\" specific:\n",
    "    cols = [\n",
    "        \"location\", \"street\", \"city\", \"state\", \"zipcode\", \"market\", \"country\"\n",
    "        , \"latitude\", \"longitude\", \"is_location_exact\"\n",
    "    ]\n",
    "    if any(word in val for word in cols):\n",
    "        data_dict.loc[index, \"Group\"] = \"Property-related\"\n",
    "        data_dict.loc[index, \"Subgroup\"] = \"Location\"\n",
    "        \n",
    "    # Property - \"Interior\" specific:\n",
    "    cols = [\n",
    "        \"bathrooms\", \"bedrooms\", \"beds\", \"square_feet\"\n",
    "    ]\n",
    "    if any(word in val for word in cols):\n",
    "        data_dict.loc[index, \"Group\"] = \"Property-related\"\n",
    "        data_dict.loc[index, \"Subgroup\"] = \"Interior\"\n",
    "        \n",
    "    # Property - \"Pricing\" specific:\n",
    "    # Variables related to price, or that we might associate with price\n",
    "    cols = [\n",
    "        \"price\", \"weekly_price\", \"monthly_price\"        \n",
    "        , \"security_deposit\", \"cleaning_fee\"\n",
    "        , \"accomodates\", \"guests_included\", \"extra_people\"\n",
    "        , \"experiences_offered\"\n",
    "    ]\n",
    "    if any(word in val for word in cols):\n",
    "        data_dict.loc[index, \"Group\"] = \"Property-related\"\n",
    "        data_dict.loc[index, \"Subgroup\"] = \"Pricing\"\n",
    "        \n",
    "    # Accomodate a group and subgroup of properties:\n",
    "    if val == \"accommodates\":\n",
    "        data_dict.loc[index, \"Group\"] = \"Property-related\"\n",
    "        data_dict.loc[index, \"Subgroup\"] = \"Pricing\"\n",
    "\n",
    "print(data_dict.groupby([\"Group\", \"Subgroup\"])[\"Column\"].count())\n",
    "print('')\n",
    "print('Columns without a group:')\n",
    "data_dict[data_dict[\"Group\"] == \"\"]"
   ]
  },
  {
   "cell_type": "markdown",
   "metadata": {},
   "source": [
    "DATA PREPARATION STEP 3:\n",
    "- Create bin to separate the host by the number of properties "
   ]
  },
  {
   "cell_type": "code",
   "execution_count": null,
   "metadata": {},
   "outputs": [],
   "source": [
    "# Create the bins to separate the number of properties by host\n",
    "bins = [0, 50, 100, 150, 200, 250, 299]\n",
    "\n",
    "# labels - always one less than the range\n",
    "group_names = [\"0-50 properties\", \"51-100 properties\", \"101-150 properties\", \"151-200 properties\",\\\n",
    "               \"201-250 properties\", \"251+ properties\"]\n",
    "\n",
    "df[\"Bin_NumProperties\"] = pd.cut(df[\"calculated_host_listings_count\"], bins, labels=group_names)\n",
    "\n",
    "\n",
    "# Loop through and get aggs:\n",
    "total_reviews_per_host = df.groupby(\"host_id\").sum()[\"number_of_reviews\"]\n",
    "average_review_per_host = df.groupby(\"host_id\").mean()[\"review_scores_rating\"]\n",
    "rating_mean_by_bin = df.groupby(\"Bin_NumProperties\").mean()[\"review_scores_rating\"]\n",
    "\n",
    "#df_analyze[\"rating_value_mean\"] = df_analyze[\"review_scores_value\"].mean()\n",
    "df.head(1)"
   ]
  },
  {
   "cell_type": "markdown",
   "metadata": {},
   "source": [
    "DATA PREPARATION STEP 4:\n",
    "Create a group by neighbourhood and number of reviews\n"
   ]
  },
  {
   "cell_type": "code",
   "execution_count": null,
   "metadata": {},
   "outputs": [],
   "source": [
    "# data_dict[data_dict[\"Group\"] == \"Host-related\"]\n",
    "host_group = df.groupby(\"neighbourhood\").agg({\n",
    "    \"number_of_reviews\": [\n",
    "        np.count_nonzero,\n",
    "        np.mean, \n",
    "        np.median, \n",
    "        np.var, \n",
    "        np.std\n",
    "    ]\n",
    "})\n",
    "\n",
    "host_group.rename(columns={'count_nonzero':'Reviews'})\n",
    "host_group.head()\n",
    "# bin on reviews_per_month"
   ]
  },
  {
   "cell_type": "markdown",
   "metadata": {},
   "source": [
    "DATA PREPARATION STEP 5:\n",
    "- Create bin to separate by the number of reviews"
   ]
  },
  {
   "cell_type": "code",
   "execution_count": null,
   "metadata": {},
   "outputs": [],
   "source": [
    "bins_num_reviews = [10, 20, 50, 100, 200, 300, 350, 400, 450, 500, 550, 600, 100000]\n",
    "\n",
    "# labels - always one less than the range\n",
    "group_names_num_reviews = [\n",
    "    \"1-10\"\n",
    "    , \"11-20\"\n",
    "    , \"21-50\"\n",
    "    , \"100-200\"\n",
    "    , \"201-250\"\n",
    "    , \"251-300\"\n",
    "    , \"301-350\"\n",
    "    , \"351-400\"\n",
    "    , \"401-550\"\n",
    "    , \"451-500\"\n",
    "    , \"501-550\"\n",
    "    , \"551-600\"\n",
    "]\n",
    "\n",
    "df[\"Bin_NumReviews\"] = pd.cut(\n",
    "    df[\"number_of_reviews\"], \n",
    "    bins = bins_num_reviews, \n",
    "    labels = group_names_num_reviews\n",
    ")\n",
    "\n",
    "df[\"Bin_NumReviews\"].value_counts()\n"
   ]
  },
  {
   "cell_type": "code",
   "execution_count": null,
   "metadata": {},
   "outputs": [],
   "source": [
    "# prin the number of reviews\n",
    "print(f'Sum: {df[\"number_of_reviews\"].sum()}')\n",
    "print(f'Count: {df[\"number_of_reviews\"].count()}')\n",
    "\n",
    "df.groupby(\"Bin_NumReviews\")[\"number_of_reviews\"].sum()"
   ]
  },
  {
   "cell_type": "code",
   "execution_count": null,
   "metadata": {},
   "outputs": [],
   "source": [
    "# Aggregate the group by numebr of reviews\n",
    "df.groupby(\"Bin_NumReviews\").agg({\n",
    "    \"number_of_reviews\": [\n",
    "        np.count_nonzero,\n",
    "        np.mean, \n",
    "        np.median, \n",
    "        np.var, \n",
    "        np.std\n",
    "    ]\n",
    "})"
   ]
  },
  {
   "cell_type": "markdown",
   "metadata": {},
   "source": [
    "DATA VALIDATION 1:\n",
    "Create a figure to visualize neighbourhood and number of reviews"
   ]
  },
  {
   "cell_type": "code",
   "execution_count": null,
   "metadata": {},
   "outputs": [],
   "source": [
    "# Use seaborn library to create a boxplot\n",
    "# sns.boxplot(x=\"day\", y=\"total_bill\", hue=\"smoker\", data=df, palette=\"Set1\")\n",
    "sns.boxplot(\n",
    "    x = \"neighbourhood_group_cleansed\",\n",
    "    y = \"number_of_reviews\",\n",
    "    #hue = \"price\",\n",
    "    data = df,\n",
    "    palette = \"Set1\"\n",
    ")\n"
   ]
  },
  {
   "cell_type": "markdown",
   "metadata": {},
   "source": [
    "DATA VALIDATION 2:\n",
    "Evaluate dataset to identify variables that are correlated"
   ]
  },
  {
   "cell_type": "code",
   "execution_count": null,
   "metadata": {},
   "outputs": [],
   "source": [
    "corr = df.corr()\n",
    "# Generate a mask for the upper triangle\n",
    "mask = np.triu(np.ones_like(corr, dtype=np.bool))\n",
    "# Set up the matplotlib figure\n",
    "f, ax = plt.subplots(figsize=(11, 9))\n",
    "# Generate a custom diverging colormap\n",
    "cmap = sns.diverging_palette(220, 10, as_cmap=True)\n",
    "# Draw the heatmap with the mask and correct aspect ratio\n",
    "sns.heatmap(\n",
    "    corr,\n",
    "    mask=mask,\n",
    "    cmap=cmap,\n",
    "    vmax=.3,\n",
    "    center=0,\n",
    "    square=True,\n",
    "    linewidths=.5,\n",
    "    cbar_kws={\"shrink\": .5}\n",
    ")"
   ]
  },
  {
   "cell_type": "code",
   "execution_count": null,
   "metadata": {},
   "outputs": [],
   "source": [
    "df.loc[:,data_dict[data_dict[\"Group\"] == \"Host-related\"][\"Column\"]]"
   ]
  },
  {
   "cell_type": "markdown",
   "metadata": {},
   "source": [
    "CLEANING THE DATASET 1:\n",
    "Cleaning raw data to delete the column with not values, columns values duplicated, columns with data not required."
   ]
  },
  {
   "cell_type": "code",
   "execution_count": null,
   "metadata": {},
   "outputs": [],
   "source": [
    "# Drop unneeded columns:\n",
    "df = df.drop(columns = [\n",
    "    \"listing_url\", \n",
    "    \"thumbnail_url\", \n",
    "    \"picture_url\",    \n",
    "    \"medium_url\",    \n",
    "    \"xl_picture_url\", \n",
    "    \"host_url\",       \n",
    "    \"host_thumbnail_url\", \n",
    "    \"host_picture_url\",  \n",
    "    \"scrape_id\",   \n",
    "    \"host_listings_count\", \n",
    "    \"host_acceptance_rate\", \n",
    "    \"calendar_last_scraped\",\n",
    "    \"bed_type\",\n",
    "    \"last_scraped\",\n",
    "    \"calendar_updated\",\n",
    "    \"has_availability\",\n",
    "    \"availability_30\", \n",
    "    \"availability_60\", \n",
    "    \"availability_90\", \n",
    "    \"license\"\n",
    "])\n",
    "\n",
    "df.head(1)"
   ]
  },
  {
   "cell_type": "markdown",
   "metadata": {},
   "source": [
    "CLEANING THE DATASET 2:\n",
    "- Get names of indexes for which column number_of_reviews has value 0"
   ]
  },
  {
   "cell_type": "code",
   "execution_count": null,
   "metadata": {},
   "outputs": [],
   "source": [
    "# Drop by index:\n",
    "indexNames = df[df['number_of_reviews'] == 0 ].index\n",
    "df.drop(indexNames , inplace=True)\n",
    "\n",
    "# Drop rows with number_of_reviews = NaN\n",
    "df.dropna(axis=0, subset=('number_of_reviews', ))\n",
    "\n",
    "# Drop rows with NaN review data\n",
    "df.dropna(axis=0, subset=(\n",
    "    'review_scores_rating', \n",
    "    'review_scores_accuracy', \n",
    "    'review_scores_cleanliness', \n",
    "    'review_scores_checkin', \n",
    "    'review_scores_communication', \n",
    "    'review_scores_location', \n",
    "    'review_scores_value'\n",
    "))\n",
    "\n",
    "print(f'Remaining rows after cleanup: {len(df)}')\n"
   ]
  },
  {
   "cell_type": "markdown",
   "metadata": {},
   "source": [
    "CLEANING THE DATASET FROM AIRBNB STEP 3:\n",
    "- Remove the dollar symbol ($) from the pricing  based columns:\n",
    "\"price\", \"weekly_price\",\"monthly_price\",\"security_deposit\",\"cleaning_fee\", \"extra_people\"  "
   ]
  },
  {
   "cell_type": "code",
   "execution_count": null,
   "metadata": {},
   "outputs": [],
   "source": [
    "# Strip the $ out of the pricing-based columns\n",
    "data_dict[(data_dict[\"Group\"] == \"Property-related\") & (data_dict[\"Subgroup\"] == \"Pricing\")]\n",
    "\n",
    "if df[\"price\"].dtype != \"float64\":\n",
    "    df[\"price\"] = df[\"price\"].str.replace(\"$\", \"\")\n",
    "    df[\"price\"] = df[\"price\"].str.replace(\",\", \"\")\n",
    "    df[\"price\"] = df[\"price\"].astype(\"float64\")\n",
    "\n",
    "if df[\"weekly_price\"].dtype != \"float64\":\n",
    "    df[\"weekly_price\"] = df[\"weekly_price\"].str.replace(\"$\", \"\")\n",
    "    df[\"weekly_price\"] = df[\"weekly_price\"].str.replace(\",\", \"\")\n",
    "    df[\"weekly_price\"] = df[\"weekly_price\"].astype(\"float64\")\n",
    "\n",
    "if df[\"monthly_price\"].dtype != \"float64\":\n",
    "    df[\"monthly_price\"] = df[\"monthly_price\"].str.replace(\"$\", \"\")\n",
    "    df[\"monthly_price\"] = df[\"monthly_price\"].str.replace(\",\", \"\")\n",
    "    df[\"monthly_price\"] = df[\"monthly_price\"].astype(\"float64\")\n",
    "    \n",
    "if df[\"security_deposit\"].dtype != \"float64\":\n",
    "    df[\"security_deposit\"] = df[\"security_deposit\"].str.replace(\"$\", \"\")\n",
    "    df[\"security_deposit\"] = df[\"security_deposit\"].str.replace(\",\", \"\")\n",
    "    df[\"security_deposit\"] = df[\"security_deposit\"].astype(\"float64\")\n",
    "    \n",
    "if df[\"cleaning_fee\"].dtype != \"float64\":\n",
    "    df[\"cleaning_fee\"] = df[\"cleaning_fee\"].str.replace(\"$\", \"\")\n",
    "    df[\"cleaning_fee\"] = df[\"cleaning_fee\"].str.replace(\",\", \"\")\n",
    "    df[\"cleaning_fee\"] = df[\"cleaning_fee\"].astype(\"float64\")   \n",
    "\n",
    "if df[\"extra_people\"].dtype != \"float64\":\n",
    "    df[\"extra_people\"] = df[\"extra_people\"].str.replace(\"$\", \"\")\n",
    "    df[\"extra_people\"] = df[\"extra_people\"].str.replace(\",\", \"\")\n",
    "    df[\"extra_people\"] = df[\"extra_people\"].astype(\"float64\")\n",
    "    \n",
    "data_dict"
   ]
  },
  {
   "cell_type": "markdown",
   "metadata": {},
   "source": [
    "\n",
    "HYPOTHESIS\n",
    "-----------------------------------"
   ]
  },
  {
   "cell_type": "markdown",
   "metadata": {},
   "source": [
    "Ho:\n",
    " There are certain factors that have an impact on the overall rating of an Air BNB property.\n",
    " \n",
    "H1:\n",
    " None of the factors that we are analyzing have any impact on the overall rating of a property."
   ]
  },
  {
   "cell_type": "markdown",
   "metadata": {},
   "source": [
    "\n",
    "ANALYSIS OF THE DATA\n",
    "-----------------------------------"
   ]
  },
  {
   "cell_type": "raw",
   "metadata": {},
   "source": [
    "Meg Section\n",
    "Evaluate the relationship between \"price\" and review_scores_rating\n",
    "Evaluate the relationship between \"how many properties someone has\" and review_scores_rating\n",
    "Evaluate the relationship between \"number of bedrooms\" and review_scores_rating\n",
    "\n",
    "Observations:"
   ]
  },
  {
   "cell_type": "markdown",
   "metadata": {},
   "source": [
    "Evaluate the relationship between \"how many properties someone has\" and review_scores_rating\n",
    "-----------------------------------------------------------------------------------------------------------------"
   ]
  },
  {
   "cell_type": "code",
   "execution_count": null,
   "metadata": {},
   "outputs": [],
   "source": [
    "# Define the bins by number of properties by host\n",
    "bins = [0, 50, 100, 150, 200, 250, 299]\n",
    "\n",
    "# labels - always one less than the range\n",
    "group_names = [\"0-50 properties\", \"51-100 properties\", \"101-150 properties\", \"151-200 properties\",\\\n",
    "               \"201-250 properties\", \"251+ properties\"]\n",
    "\n",
    "df[\"Bin_NumProperties\"] = pd.cut(df[\"calculated_host_listings_count\"], bins, labels=group_names)\n",
    "\n",
    "rating_mean_by_bin = df.groupby(\"Bin_NumProperties\").mean()[\"review_scores_rating\"]\n",
    "\n",
    "#df.head(2)\n",
    "rating_mean_by_bin"
   ]
  },
  {
   "cell_type": "code",
   "execution_count": null,
   "metadata": {},
   "outputs": [],
   "source": [
    "# Define the axis\n",
    "x_axis = group_names\n",
    "y_axis = rating_mean_by_bin\n",
    "\n",
    "# Bring in the colors from Hawaii\n",
    "hawaiian_hibiscus_hex_palette = [\"#ffa4cd\", \"#ff4e9e\", \"#ff0040\", \"#ffcd55\", \"#ffa700\"]\n",
    "\n",
    "# Define the properties of the figure\n",
    "plt.subplots(figsize=(15,10))\n",
    "plt.title(\"Average Rating per Number of Properties\")\n",
    "plt.xlabel(\"Number of Properties\")\n",
    "plt.ylabel(\"Average Rating\")\n",
    "plt.xticks(rotation=90)\n",
    "plt.ylim(85, 100)\n",
    "plt.bar(x_axis, y_axis, color = hawaiian_hibiscus_hex_palette)\n",
    "\n",
    "# Show the figure\n",
    "plt.show"
   ]
  },
  {
   "cell_type": "code",
   "execution_count": null,
   "metadata": {},
   "outputs": [],
   "source": [
    "df.boxplot(\"review_scores_rating\", by=\"Bin_NumProperties\", figsize=(20, 10))"
   ]
  },
  {
   "cell_type": "code",
   "execution_count": null,
   "metadata": {},
   "outputs": [],
   "source": [
    "# creating a set of group by Number of properties and review score rating\n",
    "\n",
    "# Extract individual groups\n",
    "group1 = df[df[\"Bin_NumProperties\"] == \"0-50 properties\"][\"review_scores_rating\"].dropna()\n",
    "group2 = df[df[\"Bin_NumProperties\"] == \"51-100 properties\"][\"review_scores_rating\"].dropna()\n",
    "group3 = df[df[\"Bin_NumProperties\"] == \"101-150 properties\"][\"review_scores_rating\"].dropna()\n",
    "group4 = df[df[\"Bin_NumProperties\"] == \"151-200 properties\"][\"review_scores_rating\"].dropna()\n",
    "group5 = df[df[\"Bin_NumProperties\"] == \"201-250 properties\"][\"review_scores_rating\"].dropna()\n",
    "group6 = df[df[\"Bin_NumProperties\"] == \"251+ properties\"][\"review_scores_rating\"].dropna()\n",
    "\n",
    "stats.f_oneway(group1, group2, group3, group4, group5, group6)"
   ]
  },
  {
   "cell_type": "raw",
   "metadata": {},
   "source": [
    "Define neighbourhood"
   ]
  },
  {
   "cell_type": "raw",
   "metadata": {},
   "source": []
  },
  {
   "cell_type": "code",
   "execution_count": null,
   "metadata": {},
   "outputs": [],
   "source": [
    "neighborhood_list = df[\"neighbourhood\"].unique()\n",
    "\n",
    "average_rating_per_neighborhood = df.groupby(\"neighbourhood\").mean()[\"review_scores_rating\"]\n",
    "average_rating_per_neighborhood\n",
    "\n",
    "x_axis = neighborhood_list\n",
    "y_axis = average_rating_per_neighborhood\n",
    "\n",
    "cleaned_neighborhood_list = [x for x in neighborhood_list if str(x) != 'nan']\n",
    "cleaned_neighborhood_list.sort()\n",
    "cleaned_neighborhood_list\n",
    "\n",
    "x_axis = cleaned_neighborhood_list\n",
    "y_axis = average_rating_per_neighborhood\n",
    "\n",
    "hawaiian_hibiscus_hex_palette = [\"#ffa4cd\", \"#ff4e9e\", \"#ff0040\", \"#ffcd55\", \"#ffa700\"]\n",
    "\n",
    "plt.subplots(figsize=(15,10))\n",
    "plt.xticks(rotation=90)\n",
    "plt.title(\"Average Rating per Number of Properties\")\n",
    "plt.xlabel(\"Number of Properties\")\n",
    "plt.ylabel(\"Average Rating\")\n",
    "plt.ylim (65, 100)\n",
    "plt.bar(x_axis, y_axis, color = hawaiian_hibiscus_hex_palette, align='center')\n",
    "plt.show"
   ]
  },
  {
   "cell_type": "raw",
   "metadata": {},
   "source": [
    "Build linear regression for price and review_score_rating."
   ]
  },
  {
   "cell_type": "code",
   "execution_count": null,
   "metadata": {},
   "outputs": [],
   "source": [
    "# Define axis\n",
    "x_axis = df[\"price\"]\n",
    "y_axis = df[\"review_scores_rating\"]\n",
    "\n",
    "\n",
    "mask = ~np.isnan(x_axis) & ~np.isnan(y_axis)\n",
    "slope, intercept, r_value, p_value, std_err = stats.linregress(x_axis[mask], y_axis[mask])\n",
    "regress_values = x_axis * slope + intercept\n",
    "line_eq = \"y = \" + str(round(slope,4)) + \"x + \" + str(round(intercept,4))\n",
    "\n",
    "plt.subplots(figsize=(15,10))\n",
    "plt.xticks(rotation=90)\n",
    "plt.xlim(0, 5500)\n",
    "plt.plot(x_axis,regress_values,\"r-\")\n",
    "plt.scatter(x_axis,y_axis)\n",
    "plt.annotate(line_eq,(4000,50),fontsize=15,color=\"red\")\n",
    "plt.xlabel('Price')\n",
    "plt.ylabel('Rating')\n",
    "print(f\"The r-squared is: {r_value}\")\n",
    "plt.show()"
   ]
  },
  {
   "cell_type": "raw",
   "metadata": {},
   "source": [
    "Evaluate the relationship between \"number of bedrooms\" and review_scores_rating.\n",
    "\n",
    "Observations:\n",
    "The results were actually pretty uniform across each bin. They all hovered within an average rating of 95 and above. The highest rating was hosts with 13+ beds. This could be due to several reasons. Possibly since these houses have so many beds, the houses were extremely nice or high-end properties, so the guests rated these affluent properties highly. Another reason could be that, since the guests required so many beds, they have a ton of friends/family coming along. This would lead to an altogether more enjoyable time which in turn would lead to a favorable host rating whether the property was good or not. "
   ]
  },
  {
   "cell_type": "raw",
   "metadata": {},
   "source": [
    "Create a new data frane (df2) so it didn't interfere with the data frame df"
   ]
  },
  {
   "cell_type": "code",
   "execution_count": null,
   "metadata": {},
   "outputs": [],
   "source": [
    "# create a dataframe with no 0's for 'number of beds' becuase that would be inaccurate data\n",
    "df2 = df.copy()\n",
    "df2 = df2[(df2['beds'] != 0)]"
   ]
  },
  {
   "cell_type": "raw",
   "metadata": {},
   "source": [
    "Make 7 bins, the final being 13+ for outliers with a large number of beds. This would show if there was a dramatic change in rating for any outliers."
   ]
  },
  {
   "cell_type": "code",
   "execution_count": null,
   "metadata": {},
   "outputs": [],
   "source": [
    "# zero beds is actually an option. A 'sofa bed' is not a real bed and is not counted as such.\n",
    "bins = [0, 2, 4, 6, 8, 10, 12, 20]\n",
    "\n",
    "group_names = [\"1-2 beds\", \"3-4 beds\", \"5-6 beds\", \"7-8 beds\", \"9-10 beds\", \"11-12 beds\", \"13+ beds\"]\n",
    "\n",
    "df2[\"bin_bed_count\"] = pd.cut(df2[\"beds\"], bins, labels=group_names)\n",
    "\n",
    "rating_mean_by_bed_count = df2.groupby(\"bin_bed_count\").mean()[\"review_scores_rating\"]"
   ]
  },
  {
   "cell_type": "raw",
   "metadata": {},
   "source": [
    "Then charted a bar graph to display the relation of bed numbers to average rating. The x axis contains the bins for the beds and the y axis is the average host rating."
   ]
  },
  {
   "cell_type": "code",
   "execution_count": null,
   "metadata": {},
   "outputs": [],
   "source": [
    "x_axis = group_names\n",
    "y_axis = rating_mean_by_bed_count\n",
    "\n",
    "hawaiian_hex_palette = [\"#00739f\", \"#b23948\", \"#ff000e\", \"#ff407c\", \"#ffb2e1\"]\n",
    "\n",
    "plt.subplots(figsize=(15,10))\n",
    "plt.title(\"Average Rating per Number of Beds\")\n",
    "plt.xlabel(\"Number of Beds\")\n",
    "plt.ylabel(\"Average Rating\")\n",
    "plt.xticks(rotation=90)\n",
    "plt.ylim(0, 100)\n",
    "plt.bar(x_axis, y_axis, color = hawaiian_hibiscus_hex_palette)\n",
    "plt.show"
   ]
  },
  {
   "cell_type": "raw",
   "metadata": {},
   "source": [
    "Lance:\n",
    "Evaluate the relationship between \"Type of place\" and review_scores_rating\n",
    "Evaluate the relationship between \"Island\" and review_scores_rating\n",
    "\n",
    "Observations:"
   ]
  },
  {
   "cell_type": "code",
   "execution_count": null,
   "metadata": {},
   "outputs": [],
   "source": [
    "# Bin by island\n",
    "isle = df[['latitude', 'longitude']].head(50).copy()\n",
    "isle[\"Island\"] = \"\"\n",
    "\n",
    "curr_rows = len(isle)\n",
    "print(f'There are {curr_rows} coordinates in the dataframe')\n",
    "\n",
    "df[\"neighbourhood_group_cleansed\"]"
   ]
  },
  {
   "cell_type": "code",
   "execution_count": null,
   "metadata": {
    "scrolled": true
   },
   "outputs": [],
   "source": [
    "average_rating_island = df.groupby(\"neighbourhood_group_cleansed\").mean()[\"review_scores_rating\"]\n",
    "properties_island = df.groupby(\"neighbourhood_group_cleansed\").count()[\"id\"]\n",
    "average_rating_island.head()"
   ]
  },
  {
   "cell_type": "code",
   "execution_count": null,
   "metadata": {},
   "outputs": [],
   "source": [
    "# set x and y axis for bar graph\n",
    "x_axis = df[\"neighbourhood_group_cleansed\"].unique()\n",
    "y_axis = average_rating_island\n",
    "\n",
    "# Define the properties of the figure\n",
    "plt.subplots(figsize=(15,10))\n",
    "\n",
    "# print lables/title and x/y limits to improve visual\n",
    "plt.title(\"Average Rating per Island\")\n",
    "plt.xlabel(\"Islands\")\n",
    "plt.ylabel(\"Average Rating\")\n",
    "plt.xticks(rotation=90)\n",
    "plt.ylim(85, 100)\n",
    "\n",
    "# define color scheme\n",
    "hawaiian_hibiscus_hex_palette = [\"#FFA4CD\", \"#FF4E9E\", \"#FF0040\", \"#FFCD55\", \"#FFA700\"]\n",
    "\n",
    "# display graph\n",
    "plt.bar(x_axis, y_axis, color = hawaiian_hibiscus_hex_palette)\n",
    "plt.show"
   ]
  },
  {
   "cell_type": "code",
   "execution_count": null,
   "metadata": {},
   "outputs": [],
   "source": [
    "df.boxplot(\"review_scores_rating\", by=\"neighbourhood_group_cleansed\", figsize=(20, 10))"
   ]
  },
  {
   "cell_type": "code",
   "execution_count": null,
   "metadata": {},
   "outputs": [],
   "source": [
    "# Define a group by every rating properties\n",
    "average_rating_prop = df.groupby(\"room_type\").mean()[\"review_scores_rating\"]\n",
    "#property_type = df.groupby(\"property_type\").count()[\"id\"]\n",
    "\n",
    "# dropped NaN values for property types that do not have ratings in hawaii such as 'igloo'\n",
    "average_rating_prop = average_rating_prop.dropna()\n",
    "average_rating_prop"
   ]
  },
  {
   "cell_type": "code",
   "execution_count": null,
   "metadata": {},
   "outputs": [],
   "source": [
    "# set x and y axis for bar graph\n",
    "x_axis = df[\"room_type\"].unique()\n",
    "y_axis = average_rating_prop\n",
    "\n",
    "# print lables/title and x/y limits to improve visual\n",
    "plt.subplots(figsize=(15,10))\n",
    "plt.title(\"Average Rating per Type of Property\")\n",
    "plt.xlabel(\"Room Type\")\n",
    "plt.ylabel(\"Average Rating\")\n",
    "plt.xticks(rotation=90)\n",
    "plt.ylim(85, 100)\n",
    "\n",
    "# display graph\n",
    "plt.bar(x_axis, y_axis, color = hawaiian_hibiscus_hex_palette)\n",
    "plt.show"
   ]
  },
  {
   "cell_type": "code",
   "execution_count": null,
   "metadata": {},
   "outputs": [],
   "source": [
    "df.boxplot(\"review_scores_rating\", by=\"room_type\", figsize=(20, 10))"
   ]
  },
  {
   "cell_type": "code",
   "execution_count": null,
   "metadata": {},
   "outputs": [],
   "source": [
    "# Build a pie to show the availability by property type in Airbnb Hawaii.\n",
    "prop_type_pie=df.property_type.value_counts()/len(df.property_type)\n",
    "prop_type_pie.plot.pie(autopct='%.2f',fontsize=12,figsize=(8,8))\n",
    "plt.title('Property types availability in AirBnB',fontsize=20)"
   ]
  },
  {
   "cell_type": "code",
   "execution_count": null,
   "metadata": {},
   "outputs": [],
   "source": [
    "# Build a pie to show the availability by property room type in Airbnb Hawaii.\n",
    "room_type_pie=df.room_type.value_counts()/len(df.room_type)\n",
    "room_type_pie.plot.pie(autopct='%.2f',fontsize=12,figsize=(8,8))\n",
    "plt.title('Property Room Types Availability in AirBnB',fontsize=20)"
   ]
  },
  {
   "cell_type": "code",
   "execution_count": null,
   "metadata": {
    "scrolled": true
   },
   "outputs": [],
   "source": [
    "plt.subplots(figsize=(15,10))\n",
    "df.groupby(['neighbourhood_group_cleansed','room_type']).room_type.count().plot.barh(stacked=True)\n",
    "plt.ylabel('Room Types per Island')\n",
    "plt.xlabel('Average Ratings')\n",
    "plt.title('Neighbourhood groups Vs Room Types')"
   ]
  },
  {
   "cell_type": "code",
   "execution_count": null,
   "metadata": {},
   "outputs": [],
   "source": [
    "plt.subplots(figsize=(15,10))\n",
    "df.groupby(['neighbourhood_group_cleansed','room_type']).review_scores_rating.mean().plot.barh(stacked=True)\n",
    "plt.ylabel('Room Types per Island')\n",
    "plt.xlabel('Number of Rooms')\n",
    "plt.title('Neighbourhood groups Vs Room Types Availability')\n"
   ]
  },
  {
   "cell_type": "code",
   "execution_count": null,
   "metadata": {},
   "outputs": [],
   "source": [
    "plt.figure(figsize=(10,6))\n",
    "plt.scatter(df.longitude, df.latitude, c=df[\"availability_365\"] , cmap='spring',\\\n",
    "            edgecolor='black', linewidth=1, alpha=0.75)\n",
    "\n",
    "cbar = plt.colorbar()\n",
    "cbar.set_label('availability_365')"
   ]
  },
  {
   "cell_type": "raw",
   "metadata": {},
   "source": [
    "Linear Regression \n"
   ]
  },
  {
   "cell_type": "code",
   "execution_count": null,
   "metadata": {},
   "outputs": [],
   "source": [
    "df[\"availability_365\"]"
   ]
  },
  {
   "cell_type": "markdown",
   "metadata": {},
   "source": [
    "# "
   ]
  }
 ],
 "metadata": {
  "kernelspec": {
   "display_name": "Python 3",
   "language": "python",
   "name": "python3"
  },
  "language_info": {
   "codemirror_mode": {
    "name": "ipython",
    "version": 3
   },
   "file_extension": ".py",
   "mimetype": "text/x-python",
   "name": "python",
   "nbconvert_exporter": "python",
   "pygments_lexer": "ipython3",
   "version": "3.7.4"
  }
 },
 "nbformat": 4,
 "nbformat_minor": 2
}
